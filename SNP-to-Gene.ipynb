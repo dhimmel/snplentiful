{
 "cells": [
  {
   "cell_type": "code",
   "execution_count": 2,
   "metadata": {
    "collapsed": false
   },
   "outputs": [
    {
     "name": "stdout",
     "output_type": "stream",
     "text": [
      "2015-08-17 08:17:56 URL:http://www.ebi.ac.uk/arrayexpress/files/A-GEOD-8882/A-GEOD-8882.adf.txt [24316605/24316605] -> \"download/A-GEOD-8882.adf.txt\" [1]\n",
      "2015-08-17 08:18:15 URL:http://www.ebi.ac.uk/arrayexpress/files/A-GEOD-6434/A-GEOD-6434.adf.txt [24862681/24862681] -> \"download/A-GEOD-6434.adf.txt\" [1]\n"
     ]
    }
   ],
   "source": [
    "#download illumina chip files\n",
    "url = 'http://www.ebi.ac.uk/arrayexpress/files/A-GEOD-8882/A-GEOD-8882.adf.txt'\n",
    "! wget --no-verbose --timestamping --directory-prefix download {url}\n",
    "url = 'http://www.ebi.ac.uk/arrayexpress/files/A-GEOD-6434/A-GEOD-6434.adf.txt'\n",
    "! wget --no-verbose --timestamping --directory-prefix download {url}"
   ]
  },
  {
   "cell_type": "code",
   "execution_count": 11,
   "metadata": {
    "collapsed": false
   },
   "outputs": [
    {
     "name": "stdout",
     "output_type": "stream",
     "text": [
      "561303 SNPs with rs#s on HH550\n"
     ]
    }
   ],
   "source": [
    "humanhap550 = set([])\n",
    "hh550_fh = open(\"download/A-GEOD-6434.adf.txt\")\n",
    "for line in hh550_fh:\n",
    "    if line.startswith('rs'):\n",
    "        toks = line.strip().split('\\t')\n",
    "        humanhap550.add(toks[1])\n",
    "\n",
    "print(str(len(humanhap550)) + \" SNPs with rs#s on HH550\")\n",
    "o_fh = open(\"data/hh550-snp-for-bed.txt\", 'w')\n",
    "o_fh.write('\\n'.join(humanhap550))\n",
    "o_fh.close()"
   ]
  },
  {
   "cell_type": "code",
   "execution_count": 12,
   "metadata": {
    "collapsed": false
   },
   "outputs": [
    {
     "name": "stdout",
     "output_type": "stream",
     "text": [
      "970342 SNPs with rs#s on HOmni1\n"
     ]
    }
   ],
   "source": [
    "humanomni1 = set([])\n",
    "omni1_fh = open(\"download/A-GEOD-8882.adf.txt\")\n",
    "for line in omni1_fh:\n",
    "    if line.startswith('rs'):\n",
    "        toks = line.strip().split('\\t')\n",
    "        humanomni1.add(toks[1])\n",
    "\n",
    "print(str(len(humanomni1)) + \" SNPs with rs#s on HOmni1\")\n",
    "o_fh = open(\"data/ho1-snp-for-bed.txt\", 'w')\n",
    "o_fh.write('\\n'.join(humanomni1))\n",
    "o_fh.close()"
   ]
  },
  {
   "cell_type": "markdown",
   "metadata": {},
   "source": [
    "Follow instructions at http://www.gettinggeneticsdone.com/2011/06/mapping-snps-to-genes-for-gwas.html to get a BED file. Use GRCh37/hg19 and dbSNP Common SNPs(142). Name the downloaded files `bed-hh550.bed` and `bed-ho1.bed`. Move both of these files to `download/` and `gzip`."
   ]
  },
  {
   "cell_type": "code",
   "execution_count": 1,
   "metadata": {
    "collapsed": false
   },
   "outputs": [
    {
     "name": "stdout",
     "output_type": "stream",
     "text": [
      "2015-08-17 10:55:12 URL:http://files.figshare.com/230645/entrez.txt [473206/473206] -> \"download/entrez.txt\" [1]\r\n"
     ]
    }
   ],
   "source": [
    "#Download Entrez mappings.\n",
    "url = 'http://files.figshare.com/230645/entrez.txt'\n",
    "! wget --no-verbose --timestamping --directory-prefix download {url}\n",
    "\n",
    "# add chr to the front to match the UCSC files\n",
    "! sed 's/^/chr/' download/entrez.txt > download/chr_entrez.txt"
   ]
  },
  {
   "cell_type": "code",
   "execution_count": 1,
   "metadata": {
    "collapsed": false
   },
   "outputs": [],
   "source": [
    "# Count the overlaps\n",
    "! windowBed -w 10000 -c -a download/chr_entrez.txt -b download/bed-hh550.bed.gz > data/hh550-entrez.bed\n",
    "! windowBed -w 10000 -c -a download/chr_entrez.txt -b download/bed-ho1.bed.gz > data/ho1-entrez.bed"
   ]
  }
 ],
 "metadata": {
  "kernelspec": {
   "display_name": "Python 3",
   "language": "python",
   "name": "python3"
  },
  "language_info": {
   "codemirror_mode": {
    "name": "ipython",
    "version": 3
   },
   "file_extension": ".py",
   "mimetype": "text/x-python",
   "name": "python",
   "nbconvert_exporter": "python",
   "pygments_lexer": "ipython3",
   "version": "3.4.3"
  }
 },
 "nbformat": 4,
 "nbformat_minor": 0
}
