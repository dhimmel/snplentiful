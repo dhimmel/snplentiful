{
 "cells": [
  {
   "cell_type": "markdown",
   "metadata": {},
   "source": [
    "# Retreive the SNPs for each platform and aggregate by gene."
   ]
  },
  {
   "cell_type": "code",
   "execution_count": 8,
   "metadata": {
    "collapsed": true
   },
   "outputs": [],
   "source": [
    "import gzip\n",
    "import pandas"
   ]
  },
  {
   "cell_type": "markdown",
   "metadata": {},
   "source": [
    "## Create BAM Files for SNPs for genotyping chips"
   ]
  },
  {
   "cell_type": "code",
   "execution_count": 6,
   "metadata": {
    "collapsed": false
   },
   "outputs": [],
   "source": [
    "# Download genotyping platform SNPs\n",
    "adf_files = [\n",
    "    'A-GEOD-8882/A-GEOD-8882.adf.txt',\n",
    "    'A-GEOD-6434/A-GEOD-6434.adf.txt',\n",
    "    'A-AFFY-107/A-AFFY-107.adf.txt',\n",
    "    'A-AFFY-72/A-AFFY-72.adf.txt',\n",
    "]\n",
    "base_url = 'http://www.ebi.ac.uk/arrayexpress/files'\n",
    "for adf_file in adf_files:\n",
    "    ! wget --no-verbose --timestamping --directory-prefix download/chips/adf {base_url}/{adf_file}\n",
    "    ! gzip --force download/chips/{adf_file.rsplit('/', 1)[-1]}"
   ]
  },
  {
   "cell_type": "code",
   "execution_count": 13,
   "metadata": {
    "collapsed": true
   },
   "outputs": [],
   "source": [
    "def parse_adf(path):\n",
    "    \"\"\"Parse array description files from ArrayExpress.\"\"\"\n",
    "    with gzip.open(path, 'rt') as read_file:\n",
    "        for i, line in enumerate(read_file):\n",
    "            if line.strip() == '[main]':\n",
    "                skip = i + 1\n",
    "                break\n",
    "    return pandas.read_table(path, skiprows=skip)"
   ]
  },
  {
   "cell_type": "code",
   "execution_count": 23,
   "metadata": {
    "collapsed": false
   },
   "outputs": [
    {
     "data": {
      "text/plain": [
       "'561303 SNPs with rs#s on HumanHap550'"
      ]
     },
     "execution_count": 23,
     "metadata": {},
     "output_type": "execute_result"
    }
   ],
   "source": [
    "#Illumina HumanHap550 Platform: https://www.ebi.ac.uk/arrayexpress/arrays/A-GEOD-6434/\n",
    "df = parse_adf('download/chips/A-GEOD-6434.adf.txt.gz')\n",
    "rsids = df['Reporter Database Entry [dbsnp]']\n",
    "rsids = rsids[rsids.str.startswith('rs').fillna(False)]\n",
    "with open(\"download/chips/hh550-snp-for-bed.txt\", 'w') as write_file:\n",
    "    write_file.write('\\n'.join(rsids))\n",
    "'{} SNPs with rs#s on HumanHap550'.format(len(rsids))"
   ]
  },
  {
   "cell_type": "code",
   "execution_count": 24,
   "metadata": {
    "collapsed": false
   },
   "outputs": [
    {
     "data": {
      "text/plain": [
       "'970342 SNPs with rs#s on HumanOmni1'"
      ]
     },
     "execution_count": 24,
     "metadata": {},
     "output_type": "execute_result"
    }
   ],
   "source": [
    "#Illumina HumanOmni1-Quad: https://www.ebi.ac.uk/arrayexpress/arrays/A-GEOD-8882/\n",
    "df = parse_adf('download/chips/A-GEOD-8882.adf.txt.gz')\n",
    "rsids = df['Reporter Database Entry [dbsnp]']\n",
    "rsids = rsids[rsids.str.startswith('rs').fillna(False)]\n",
    "with open('download/chips/ho1-snp-for-bed.txt', 'w') as write_file:\n",
    "    write_file.write('\\n'.join(rsids))\n",
    "'{} SNPs with rs#s on HumanOmni1'.format(len(rsids))"
   ]
  },
  {
   "cell_type": "code",
   "execution_count": 30,
   "metadata": {
    "collapsed": false
   },
   "outputs": [
    {
     "data": {
      "text/plain": [
       "'497531 SNPs with rs#s on Affy500k'"
      ]
     },
     "execution_count": 30,
     "metadata": {},
     "output_type": "execute_result"
    }
   ],
   "source": [
    "#Affy 500k Array set is made up of 2 arrays (Sty and Nsp)\n",
    "\n",
    "#Sty Array: https://www.ebi.ac.uk/arrayexpress/arrays/A-AFFY-72/\n",
    "df = parse_adf('download/chips/A-AFFY-72.adf.txt.gz')\n",
    "rsids = df['Composite Element Database Entry[ncbi_dbsnp:126:126]']\n",
    "rsids_0 = rsids[rsids.str.startswith('rs').fillna(False)]\n",
    "\n",
    "#Nsp Array: https://www.ebi.ac.uk/arrayexpress/arrays/A-AFFY-107/\n",
    "df = parse_adf('download/chips/A-AFFY-107.adf.txt.gz')\n",
    "rsids = df['Composite Element Database Entry[dbsnp:v128]']\n",
    "rsids_1 = rsids[rsids.str.startswith('rs').fillna(False)]\n",
    "\n",
    "rsids = sorted(set(rsids_0) | set(rsids_1))\n",
    "with open('download/chips/affy500-snp-for-bed.txt', 'w') as write_file:\n",
    "    write_file.write('\\n'.join(rsids))\n",
    "'{} SNPs with rs#s on Affy500k'.format(len(rsids))"
   ]
  },
  {
   "cell_type": "markdown",
   "metadata": {},
   "source": [
    "**Manual step:** Follow instructions at http://www.gettinggeneticsdone.com/2011/06/mapping-snps-to-genes-for-gwas.html to get a BED file. Use GRCh37/hg19 and dbSNP Common SNPs(142). Name the downloaded files `hh550.bed`, `ho1.bed`, and `affy500k.bed`. Move these files to `download/bed` and `gzip`."
   ]
  },
  {
   "cell_type": "markdown",
   "metadata": {},
   "source": [
    "## Download 1000 Genomes Phase 3 common SNPs"
   ]
  },
  {
   "cell_type": "code",
   "execution_count": 34,
   "metadata": {
    "collapsed": false
   },
   "outputs": [
    {
     "name": "stdout",
     "output_type": "stream",
     "text": [
      "2015-08-24 17:59:10 URL:https://raw.githubusercontent.com/dhimmel/kg/de9c303442f01acde89aa956acb2f53888295169/data/common-SNPs/common-snps.bed.gz [40372216/40372216] -> \"download/platforms/bed/kg3.bed.gz\" [1]\r\n"
     ]
    }
   ],
   "source": [
    "url = 'https://raw.githubusercontent.com/dhimmel/kg/de9c303442f01acde89aa956acb2f53888295169/data/common-SNPs/common-snps.bed.gz'\n",
    "! wget --no-verbose --output-document download/platforms/bed/kg3.bed.gz {url}"
   ]
  },
  {
   "cell_type": "markdown",
   "metadata": {},
   "source": [
    "## Download Entrez Gene locations"
   ]
  },
  {
   "cell_type": "code",
   "execution_count": 69,
   "metadata": {
    "collapsed": false
   },
   "outputs": [
    {
     "data": {
      "text/html": [
       "<div>\n",
       "<table border=\"1\" class=\"dataframe\">\n",
       "  <thead>\n",
       "    <tr style=\"text-align: right;\">\n",
       "      <th></th>\n",
       "      <th>chrom</th>\n",
       "      <th>chromStart</th>\n",
       "      <th>chromEnd</th>\n",
       "      <th>name</th>\n",
       "    </tr>\n",
       "  </thead>\n",
       "  <tbody>\n",
       "    <tr>\n",
       "      <th>17683</th>\n",
       "      <td>chrY</td>\n",
       "      <td>23673264</td>\n",
       "      <td>23711212</td>\n",
       "      <td>5940</td>\n",
       "    </tr>\n",
       "    <tr>\n",
       "      <th>17684</th>\n",
       "      <td>chrY</td>\n",
       "      <td>26909216</td>\n",
       "      <td>26959626</td>\n",
       "      <td>57054</td>\n",
       "    </tr>\n",
       "  </tbody>\n",
       "</table>\n",
       "</div>"
      ],
      "text/plain": [
       "      chrom  chromStart  chromEnd   name\n",
       "17683  chrY    23673264  23711212   5940\n",
       "17684  chrY    26909216  26959626  57054"
      ]
     },
     "execution_count": 69,
     "metadata": {},
     "output_type": "execute_result"
    }
   ],
   "source": [
    "# Download Entrez mappings from http://dx.doi.org/10.6084/m9.figshare.103113\n",
    "url = 'http://files.figshare.com/230645/entrez.txt'\n",
    "entrez_df = pandas.read_table(url, names=['chrom', 'chromStart', 'chromEnd', 'name'])\n",
    "entrez_df['chrom'] = 'chr' + entrez_df['chrom'].astype(str)\n",
    "entrez_df = entrez_df.replace({'chrom': {'chr23': 'chrX', 'chr24': 'chrY'}})\n",
    "entrez_df.to_csv('download/entrez-genes.bed', index=False, header=False, sep='\\t')\n",
    "entrez_df.tail(2)"
   ]
  },
  {
   "cell_type": "markdown",
   "metadata": {},
   "source": [
    "## Compute SNPs per gene using `bedtools`"
   ]
  },
  {
   "cell_type": "code",
   "execution_count": 72,
   "metadata": {
    "collapsed": false
   },
   "outputs": [],
   "source": [
    "platforms = 'hh550', 'ho1', 'affy500', 'exac', 'kg3'\n",
    "\n",
    "# Base pairs added upstream and downstream of each entry\n",
    "window = 10000\n",
    "\n",
    "# Count the overlaps for genotyping platforms\n",
    "for platform in platforms:\n",
    "    ! bedtools window -w {window} -c -a download/entrez-genes.bed \\\n",
    "        -b download/platforms/bed/{platform}.bed.gz > data/platforms/{platform}-entrez.bed"
   ]
  },
  {
   "cell_type": "markdown",
   "metadata": {},
   "source": [
    "## Combine to a single file"
   ]
  },
  {
   "cell_type": "code",
   "execution_count": 73,
   "metadata": {
    "collapsed": false
   },
   "outputs": [],
   "source": [
    "# Read SNPs per Gene\n",
    "columns = ['chromosome', 'chromosome_start', 'chromosome_end', 'entrez_gene_id', 'snps']\n",
    "\n",
    "dfs = list()\n",
    "for platform in platforms:\n",
    "    path = 'data/platforms/{}-entrez.bed'.format(platform)\n",
    "    columns[-1] = 'snps_{}'.format(platform)\n",
    "    df = pandas.read_table(path, names=columns)\n",
    "    dfs.append(df)"
   ]
  },
  {
   "cell_type": "code",
   "execution_count": 74,
   "metadata": {
    "collapsed": false
   },
   "outputs": [
    {
     "data": {
      "text/html": [
       "<div>\n",
       "<table border=\"1\" class=\"dataframe\">\n",
       "  <thead>\n",
       "    <tr style=\"text-align: right;\">\n",
       "      <th></th>\n",
       "      <th>chromosome</th>\n",
       "      <th>chromosome_start</th>\n",
       "      <th>chromosome_end</th>\n",
       "      <th>entrez_gene_id</th>\n",
       "      <th>snps_hh550</th>\n",
       "      <th>snps_ho1</th>\n",
       "      <th>snps_affy500</th>\n",
       "      <th>snps_exac</th>\n",
       "      <th>snps_kg3</th>\n",
       "    </tr>\n",
       "  </thead>\n",
       "  <tbody>\n",
       "    <tr>\n",
       "      <th>0</th>\n",
       "      <td>chr1</td>\n",
       "      <td>69055</td>\n",
       "      <td>70108</td>\n",
       "      <td>79501</td>\n",
       "      <td>0</td>\n",
       "      <td>0</td>\n",
       "      <td>0</td>\n",
       "      <td>4</td>\n",
       "      <td>10</td>\n",
       "    </tr>\n",
       "    <tr>\n",
       "      <th>1</th>\n",
       "      <td>chr1</td>\n",
       "      <td>860260</td>\n",
       "      <td>879955</td>\n",
       "      <td>148398</td>\n",
       "      <td>0</td>\n",
       "      <td>13</td>\n",
       "      <td>0</td>\n",
       "      <td>9</td>\n",
       "      <td>159</td>\n",
       "    </tr>\n",
       "  </tbody>\n",
       "</table>\n",
       "</div>"
      ],
      "text/plain": [
       "  chromosome  chromosome_start  chromosome_end  entrez_gene_id  snps_hh550  \\\n",
       "0       chr1             69055           70108           79501           0   \n",
       "1       chr1            860260          879955          148398           0   \n",
       "\n",
       "   snps_ho1  snps_affy500  snps_exac  snps_kg3  \n",
       "0         0             0          4        10  \n",
       "1        13             0          9       159  "
      ]
     },
     "execution_count": 74,
     "metadata": {},
     "output_type": "execute_result"
    }
   ],
   "source": [
    "count_df = dfs[0]\n",
    "for df in dfs[1:]:\n",
    "    count_df = count_df.merge(df)\n",
    "\n",
    "count_df.to_csv('data/platforms/combined.tsv', index=False, sep='\\t')\n",
    "count_df.head(2)"
   ]
  }
 ],
 "metadata": {
  "kernelspec": {
   "display_name": "Python 3",
   "language": "python",
   "name": "python3"
  },
  "language_info": {
   "codemirror_mode": {
    "name": "ipython",
    "version": 3
   },
   "file_extension": ".py",
   "mimetype": "text/x-python",
   "name": "python",
   "nbconvert_exporter": "python",
   "pygments_lexer": "ipython3",
   "version": "3.4.3"
  }
 },
 "nbformat": 4,
 "nbformat_minor": 0
}
