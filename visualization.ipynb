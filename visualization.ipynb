{
 "cells": [
  {
   "cell_type": "markdown",
   "metadata": {},
   "source": [
    "# Demonstration of [dplyr issue 1363](https://github.com/hadley/dplyr/issues/1363)"
   ]
  },
  {
   "cell_type": "code",
   "execution_count": 1,
   "metadata": {
    "collapsed": false
   },
   "outputs": [
    {
     "data": {
      "text/plain": [
       "R version 3.2.1 (2015-06-18)\n",
       "Platform: x86_64-apple-darwin13.4.0 (64-bit)\n",
       "Running under: OS X 10.10.5 (Yosemite)\n",
       "\n",
       "locale:\n",
       "[1] en_US.UTF-8/en_US.UTF-8/en_US.UTF-8/C/en_US.UTF-8/en_US.UTF-8\n",
       "\n",
       "attached base packages:\n",
       "[1] stats     graphics  grDevices utils     datasets  methods   base     \n",
       "\n",
       "other attached packages:\n",
       "[1] tidyr_0.2.0      readr_0.1.0.9000 dplyr_0.4.2.9002\n",
       "\n",
       "loaded via a namespace (and not attached):\n",
       " [1] Rcpp_0.12.0     digest_0.6.8    assertthat_0.1  IRdisplay_0.3  \n",
       " [5] repr_0.2        R6_2.1.1        jsonlite_0.9.16 DBI_0.3.1      \n",
       " [9] magrittr_1.5    evaluate_0.7    stringi_0.5-2   uuid_0.1-1     \n",
       "[13] IRkernel_0.4    tools_3.2.1     stringr_1.0.0   parallel_3.2.1 \n",
       "[17] base64enc_0.1-2 rzmq_0.7.7     "
      ]
     },
     "execution_count": 1,
     "metadata": {},
     "output_type": "execute_result"
    }
   ],
   "source": [
    "library(dplyr, warn=FALSE)\n",
    "library(readr)\n",
    "library(tidyr)\n",
    "\n",
    "sessionInfo()"
   ]
  },
  {
   "cell_type": "code",
   "execution_count": 2,
   "metadata": {
    "collapsed": false
   },
   "outputs": [
    {
     "data": {
      "text/html": [
       "<dl class=dl-horizontal>\n",
       "\t<dt>snps_affy500_log</dt>\n",
       "\t\t<dd>'Affymetrix 500K Set'</dd>\n",
       "\t<dt>snps_hh550_log</dt>\n",
       "\t\t<dd>'Illumina HumanHap550'</dd>\n",
       "\t<dt>snps_ho1_log</dt>\n",
       "\t\t<dd>'Illumina HumanOmni1'</dd>\n",
       "\t<dt>snps_exac_log</dt>\n",
       "\t\t<dd>'ExAC'</dd>\n",
       "\t<dt>snps_kg3_log</dt>\n",
       "\t\t<dd>'1000 Genomes Phase 3'</dd>\n",
       "</dl>\n"
      ],
      "text/latex": [
       "\\begin{description*}\n",
       "\\item[snps_affy500_log] 'Affymetrix 500K Set'\n",
       "\\item[snps_hh550_log] 'Illumina HumanHap550'\n",
       "\\item[snps_ho1_log] 'Illumina HumanOmni1'\n",
       "\\item[snps_exac_log] 'ExAC'\n",
       "\\item[snps_kg3_log] '1000 Genomes Phase 3'\n",
       "\\end{description*}\n"
      ],
      "text/markdown": [
       "snps_affy500_log\n",
       ":   'Affymetrix 500K Set'snps_hh550_log\n",
       ":   'Illumina HumanHap550'snps_ho1_log\n",
       ":   'Illumina HumanOmni1'snps_exac_log\n",
       ":   'ExAC'snps_kg3_log\n",
       ":   '1000 Genomes Phase 3'\n",
       "\n"
      ],
      "text/plain": [
       "      snps_affy500_log         snps_hh550_log           snps_ho1_log \n",
       " \"Affymetrix 500K Set\" \"Illumina HumanHap550\"  \"Illumina HumanOmni1\" \n",
       "         snps_exac_log           snps_kg3_log \n",
       "                \"ExAC\" \"1000 Genomes Phase 3\" "
      ]
     },
     "execution_count": 2,
     "metadata": {},
     "output_type": "execute_result"
    }
   ],
   "source": [
    "platforms = c(\n",
    "  'snps_affy500_log'='Affymetrix 500K Set',\n",
    "  'snps_hh550_log'='Illumina HumanHap550',\n",
    "  'snps_ho1_log'='Illumina HumanOmni1',\n",
    "  'snps_exac_log'='ExAC',\n",
    "  'snps_kg3_log'='1000 Genomes Phase 3'\n",
    ")\n",
    "platforms"
   ]
  },
  {
   "cell_type": "code",
   "execution_count": 3,
   "metadata": {
    "collapsed": false
   },
   "outputs": [
    {
     "data": {
      "text/html": [
       "<table>\n",
       "<thead><tr><th></th><th scope=col>metaedge</th><th scope=col>abbreviation</th><th scope=col>entrez_gene_id</th><th scope=col>symbol</th><th scope=col>node</th><th scope=col>degree</th><th scope=col>snps_hh550</th><th scope=col>snps_ho1</th><th scope=col>snps_affy500</th><th scope=col>snps_exac</th><th scope=col>snps_kg3</th><th scope=col>degree_log</th><th scope=col>snps_hh550_log</th><th scope=col>snps_ho1_log</th><th scope=col>snps_affy500_log</th><th scope=col>snps_exac_log</th><th scope=col>snps_kg3_log</th></tr></thead>\n",
       "<tbody>\n",
       "\t<tr><th scope=row>1</th><td>gene - binding - compound</td><td>GbC</td><td>1</td><td>A1BG</td><td>gene::1</td><td>0</td><td>4</td><td>12</td><td>1</td><td>6</td><td>38</td><td>0</td><td>0.69897</td><td>1.1139</td><td>0.30103</td><td>0.8451</td><td>1.5911</td></tr>\n",
       "\t<tr><th scope=row>2</th><td>gene - upregulation - compound</td><td>GuC</td><td>1</td><td>A1BG</td><td>gene::1</td><td>0</td><td>4</td><td>12</td><td>1</td><td>6</td><td>38</td><td>0</td><td>0.69897</td><td>1.1139</td><td>0.30103</td><td>0.8451</td><td>1.5911</td></tr>\n",
       "</tbody>\n",
       "</table>\n"
      ],
      "text/latex": [
       "\\begin{tabular}{r|lllllllllllllllll}\n",
       "  & metaedge & abbreviation & entrez_gene_id & symbol & node & degree & snps_hh550 & snps_ho1 & snps_affy500 & snps_exac & snps_kg3 & degree_log & snps_hh550_log & snps_ho1_log & snps_affy500_log & snps_exac_log & snps_kg3_log\\\\\n",
       "\\hline\n",
       "\t1 & gene - binding - compound & GbC & 1 & A1BG & gene::1 & 0 & 4 & 12 & 1 & 6 & 38 & 0 & 0.69897 & 1.1139 & 0.30103 & 0.8451 & 1.5911\\\\\n",
       "\t2 & gene - upregulation - compound & GuC & 1 & A1BG & gene::1 & 0 & 4 & 12 & 1 & 6 & 38 & 0 & 0.69897 & 1.1139 & 0.30103 & 0.8451 & 1.5911\\\\\n",
       "\\end{tabular}\n"
      ],
      "text/plain": [
       "Source: local data frame [2 x 17]\n",
       "\n",
       "                        metaedge abbreviation entrez_gene_id symbol    node\n",
       "                           (chr)        (chr)          (int)  (chr)   (chr)\n",
       "1      gene - binding - compound          GbC              1   A1BG gene::1\n",
       "2 gene - upregulation - compound          GuC              1   A1BG gene::1\n",
       "Variables not shown: degree (int), snps_hh550 (int), snps_ho1 (int),\n",
       "  snps_affy500 (int), snps_exac (int), snps_kg3 (int), degree_log (dbl),\n",
       "  snps_hh550_log (dbl), snps_ho1_log (dbl), snps_affy500_log (dbl),\n",
       "  snps_exac_log (dbl), snps_kg3_log (dbl)"
      ]
     },
     "execution_count": 3,
     "metadata": {},
     "output_type": "execute_result"
    }
   ],
   "source": [
    "combined_df = readr::read_tsv('data/combined.tsv.gz')\n",
    "head(combined_df, 2)"
   ]
  },
  {
   "cell_type": "code",
   "execution_count": 4,
   "metadata": {
    "collapsed": false
   },
   "outputs": [
    {
     "data": {
      "text/html": [
       "<table>\n",
       "<thead><tr><th></th><th scope=col>metaedge</th><th scope=col>abbreviation</th><th scope=col>entrez_gene_id</th><th scope=col>symbol</th><th scope=col>node</th><th scope=col>degree</th><th scope=col>degree_log</th><th scope=col>platform</th><th scope=col>snps_log</th><th scope=col>platform_name</th></tr></thead>\n",
       "<tbody>\n",
       "\t<tr><th scope=row>1</th><td>gene - binding - compound</td><td>GbC</td><td>1</td><td>A1BG</td><td>gene::1</td><td>0</td><td>0</td><td>snps_hh550_log</td><td>0.69897</td><td>Affymetrix 500K Set</td></tr>\n",
       "\t<tr><th scope=row>2</th><td>gene - upregulation - compound</td><td>GuC</td><td>1</td><td>A1BG</td><td>gene::1</td><td>0</td><td>0</td><td>snps_hh550_log</td><td>0.69897</td><td>Affymetrix 500K Set</td></tr>\n",
       "</tbody>\n",
       "</table>\n"
      ],
      "text/latex": [
       "\\begin{tabular}{r|llllllllll}\n",
       "  & metaedge & abbreviation & entrez_gene_id & symbol & node & degree & degree_log & platform & snps_log & platform_name\\\\\n",
       "\\hline\n",
       "\t1 & gene - binding - compound & GbC & 1 & A1BG & gene::1 & 0 & 0 & snps_hh550_log & 0.69897 & Affymetrix 500K Set\\\\\n",
       "\t2 & gene - upregulation - compound & GuC & 1 & A1BG & gene::1 & 0 & 0 & snps_hh550_log & 0.69897 & Affymetrix 500K Set\\\\\n",
       "\\end{tabular}\n"
      ],
      "text/plain": [
       "Source: local data frame [2 x 10]\n",
       "\n",
       "                        metaedge abbreviation entrez_gene_id symbol    node\n",
       "                           (chr)        (chr)          (int)  (chr)   (chr)\n",
       "1      gene - binding - compound          GbC              1   A1BG gene::1\n",
       "2 gene - upregulation - compound          GuC              1   A1BG gene::1\n",
       "Variables not shown: degree (int), degree_log (dbl), platform (fctr), snps_log\n",
       "  (dbl), platform_name (chr)"
      ]
     },
     "execution_count": 4,
     "metadata": {},
     "output_type": "execute_result"
    }
   ],
   "source": [
    "gathered_df = combined_df %>%\n",
    "  dplyr::select(-(snps_hh550:snps_kg3)) %>%\n",
    "  tidyr::gather(platform, snps_log, snps_hh550_log:snps_kg3_log, convert = FALSE) %>%\n",
    "  # dplyr::mutate(platform = as.character(platform)) %>% # converting platform to character resolves the issue\n",
    "  dplyr::mutate(platform_name = platforms[platform])\n",
    "\n",
    "head(gathered_df, 2)"
   ]
  },
  {
   "cell_type": "code",
   "execution_count": 5,
   "metadata": {
    "collapsed": false
   },
   "outputs": [
    {
     "data": {
      "text/html": [
       "'factor'"
      ],
      "text/latex": [
       "'factor'"
      ],
      "text/markdown": [
       "'factor'"
      ],
      "text/plain": [
       "[1] \"factor\""
      ]
     },
     "execution_count": 5,
     "metadata": {},
     "output_type": "execute_result"
    }
   ],
   "source": [
    "class(gathered_df$platform)"
   ]
  },
  {
   "cell_type": "code",
   "execution_count": 6,
   "metadata": {
    "collapsed": false
   },
   "outputs": [
    {
     "data": {
      "text/html": [
       "<table>\n",
       "<thead><tr><th></th><th scope=col>platform</th><th scope=col>platform_name</th></tr></thead>\n",
       "<tbody>\n",
       "\t<tr><th scope=row>1</th><td>snps_hh550_log</td><td>Affymetrix 500K Set</td></tr>\n",
       "\t<tr><th scope=row>2</th><td>snps_ho1_log</td><td>Illumina HumanHap550</td></tr>\n",
       "\t<tr><th scope=row>3</th><td>snps_affy500_log</td><td>Illumina HumanOmni1</td></tr>\n",
       "\t<tr><th scope=row>4</th><td>snps_exac_log</td><td>ExAC</td></tr>\n",
       "\t<tr><th scope=row>5</th><td>snps_kg3_log</td><td>1000 Genomes Phase 3</td></tr>\n",
       "</tbody>\n",
       "</table>\n"
      ],
      "text/latex": [
       "\\begin{tabular}{r|ll}\n",
       "  & platform & platform_name\\\\\n",
       "\\hline\n",
       "\t1 & snps_hh550_log & Affymetrix 500K Set\\\\\n",
       "\t2 & snps_ho1_log & Illumina HumanHap550\\\\\n",
       "\t3 & snps_affy500_log & Illumina HumanOmni1\\\\\n",
       "\t4 & snps_exac_log & ExAC\\\\\n",
       "\t5 & snps_kg3_log & 1000 Genomes Phase 3\\\\\n",
       "\\end{tabular}\n"
      ],
      "text/plain": [
       "Source: local data frame [5 x 2]\n",
       "\n",
       "          platform        platform_name\n",
       "            (fctr)                (chr)\n",
       "1   snps_hh550_log  Affymetrix 500K Set\n",
       "2     snps_ho1_log Illumina HumanHap550\n",
       "3 snps_affy500_log  Illumina HumanOmni1\n",
       "4    snps_exac_log                 ExAC\n",
       "5     snps_kg3_log 1000 Genomes Phase 3"
      ]
     },
     "execution_count": 6,
     "metadata": {},
     "output_type": "execute_result"
    }
   ],
   "source": [
    "gathered_df %>%\n",
    "  dplyr::select(platform, platform_name) %>%\n",
    "  dplyr::distinct()"
   ]
  },
  {
   "cell_type": "code",
   "execution_count": 7,
   "metadata": {
    "collapsed": false
   },
   "outputs": [
    {
     "data": {
      "text/html": [
       "snps_hh550_log"
      ],
      "text/latex": [
       "snps_hh550_log"
      ],
      "text/markdown": [
       "snps_hh550_log"
      ],
      "text/plain": [
       "[1] snps_hh550_log\n",
       "5 Levels: snps_hh550_log snps_ho1_log snps_affy500_log ... snps_kg3_log"
      ]
     },
     "execution_count": 7,
     "metadata": {},
     "output_type": "execute_result"
    }
   ],
   "source": [
    "gathered_df$platform[1]"
   ]
  },
  {
   "cell_type": "code",
   "execution_count": 8,
   "metadata": {
    "collapsed": false
   },
   "outputs": [
    {
     "data": {
      "text/html": [
       "1"
      ],
      "text/latex": [
       "1"
      ],
      "text/markdown": [
       "1"
      ],
      "text/plain": [
       "[1] 1"
      ]
     },
     "execution_count": 8,
     "metadata": {},
     "output_type": "execute_result"
    }
   ],
   "source": [
    "as.integer(gathered_df$platform[1])"
   ]
  },
  {
   "cell_type": "code",
   "execution_count": 9,
   "metadata": {
    "collapsed": false
   },
   "outputs": [
    {
     "data": {
      "text/html": [
       "<strong>snps_affy500_log:</strong> 'Affymetrix 500K Set'"
      ],
      "text/latex": [
       "\\textbf{snps_affy500_log:} 'Affymetrix 500K Set'"
      ],
      "text/markdown": [
       "**snps_affy500_log:** 'Affymetrix 500K Set'"
      ],
      "text/plain": [
       "     snps_affy500_log \n",
       "\"Affymetrix 500K Set\" "
      ]
     },
     "execution_count": 9,
     "metadata": {},
     "output_type": "execute_result"
    }
   ],
   "source": [
    "platforms[gathered_df$platform[1]]"
   ]
  }
 ],
 "metadata": {
  "kernelspec": {
   "display_name": "R",
   "language": "R",
   "name": "ir"
  },
  "language_info": {
   "codemirror_mode": "r",
   "file_extension": ".r",
   "mimetype": "text/x-r-source",
   "name": "R",
   "pygments_lexer": "r",
   "version": "3.2.1"
  }
 },
 "nbformat": 4,
 "nbformat_minor": 0
}
