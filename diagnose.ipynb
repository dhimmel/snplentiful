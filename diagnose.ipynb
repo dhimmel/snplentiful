{
 "cells": [
  {
   "cell_type": "markdown",
   "metadata": {},
   "source": [
    "# Diagnose change in HH550 visualization between two commits."
   ]
  },
  {
   "cell_type": "code",
   "execution_count": 11,
   "metadata": {
    "collapsed": true
   },
   "outputs": [],
   "source": [
    "import io\n",
    "import gzip\n",
    "import requests\n",
    "import pandas"
   ]
  },
  {
   "cell_type": "code",
   "execution_count": 12,
   "metadata": {
    "collapsed": false
   },
   "outputs": [
    {
     "data": {
      "text/html": [
       "<div>\n",
       "<table border=\"1\" class=\"dataframe\">\n",
       "  <thead>\n",
       "    <tr style=\"text-align: right;\">\n",
       "      <th></th>\n",
       "      <th>chromosome</th>\n",
       "      <th>chromosome_start</th>\n",
       "      <th>chromosome_end</th>\n",
       "      <th>entrez_gene_id</th>\n",
       "      <th>snps_hh550</th>\n",
       "      <th>snps_ho1</th>\n",
       "      <th>snps_affy500</th>\n",
       "      <th>snps_exac</th>\n",
       "      <th>snps_kg3</th>\n",
       "    </tr>\n",
       "  </thead>\n",
       "  <tbody>\n",
       "    <tr>\n",
       "      <th>0</th>\n",
       "      <td>chr1</td>\n",
       "      <td>69055</td>\n",
       "      <td>70108</td>\n",
       "      <td>79501</td>\n",
       "      <td>0</td>\n",
       "      <td>0</td>\n",
       "      <td>0</td>\n",
       "      <td>4</td>\n",
       "      <td>10</td>\n",
       "    </tr>\n",
       "    <tr>\n",
       "      <th>1</th>\n",
       "      <td>chr1</td>\n",
       "      <td>860260</td>\n",
       "      <td>879955</td>\n",
       "      <td>148398</td>\n",
       "      <td>0</td>\n",
       "      <td>13</td>\n",
       "      <td>0</td>\n",
       "      <td>9</td>\n",
       "      <td>159</td>\n",
       "    </tr>\n",
       "    <tr>\n",
       "      <th>2</th>\n",
       "      <td>chr1</td>\n",
       "      <td>879584</td>\n",
       "      <td>894689</td>\n",
       "      <td>26155</td>\n",
       "      <td>0</td>\n",
       "      <td>22</td>\n",
       "      <td>0</td>\n",
       "      <td>21</td>\n",
       "      <td>125</td>\n",
       "    </tr>\n",
       "    <tr>\n",
       "      <th>3</th>\n",
       "      <td>chr1</td>\n",
       "      <td>895967</td>\n",
       "      <td>901095</td>\n",
       "      <td>339451</td>\n",
       "      <td>0</td>\n",
       "      <td>19</td>\n",
       "      <td>0</td>\n",
       "      <td>25</td>\n",
       "      <td>113</td>\n",
       "    </tr>\n",
       "    <tr>\n",
       "      <th>4</th>\n",
       "      <td>chr1</td>\n",
       "      <td>901877</td>\n",
       "      <td>911245</td>\n",
       "      <td>84069</td>\n",
       "      <td>0</td>\n",
       "      <td>15</td>\n",
       "      <td>0</td>\n",
       "      <td>28</td>\n",
       "      <td>131</td>\n",
       "    </tr>\n",
       "  </tbody>\n",
       "</table>\n",
       "</div>"
      ],
      "text/plain": [
       "  chromosome  chromosome_start  chromosome_end  entrez_gene_id  snps_hh550  \\\n",
       "0       chr1             69055           70108           79501           0   \n",
       "1       chr1            860260          879955          148398           0   \n",
       "2       chr1            879584          894689           26155           0   \n",
       "3       chr1            895967          901095          339451           0   \n",
       "4       chr1            901877          911245           84069           0   \n",
       "\n",
       "   snps_ho1  snps_affy500  snps_exac  snps_kg3  \n",
       "0         0             0          4        10  \n",
       "1        13             0          9       159  \n",
       "2        22             0         21       125  \n",
       "3        19             0         25       113  \n",
       "4        15             0         28       131  "
      ]
     },
     "execution_count": 12,
     "metadata": {},
     "output_type": "execute_result"
    }
   ],
   "source": [
    "url = 'https://raw.githubusercontent.com/dhimmel/snplentiful/5238adf66c9a2566e04ca81666fa6b4d47394fa1/data/platforms/combined.tsv'\n",
    "#new_df = pandas.read_table(gzip.open(io.BytesIO(requests.get(url).content), 'rt'))\n",
    "new_df = pandas.read_table(url)\n",
    "new_df.head()"
   ]
  },
  {
   "cell_type": "code",
   "execution_count": 13,
   "metadata": {
    "collapsed": false
   },
   "outputs": [
    {
     "data": {
      "text/html": [
       "<div>\n",
       "<table border=\"1\" class=\"dataframe\">\n",
       "  <thead>\n",
       "    <tr style=\"text-align: right;\">\n",
       "      <th></th>\n",
       "      <th>chromosome</th>\n",
       "      <th>chromosome_start</th>\n",
       "      <th>chromosome_end</th>\n",
       "      <th>entrez_gene_id</th>\n",
       "      <th>snps_hh550</th>\n",
       "    </tr>\n",
       "  </thead>\n",
       "  <tbody>\n",
       "    <tr>\n",
       "      <th>0</th>\n",
       "      <td>chr1</td>\n",
       "      <td>69055</td>\n",
       "      <td>70108</td>\n",
       "      <td>79501</td>\n",
       "      <td>0</td>\n",
       "    </tr>\n",
       "    <tr>\n",
       "      <th>1</th>\n",
       "      <td>chr1</td>\n",
       "      <td>860260</td>\n",
       "      <td>879955</td>\n",
       "      <td>148398</td>\n",
       "      <td>0</td>\n",
       "    </tr>\n",
       "    <tr>\n",
       "      <th>2</th>\n",
       "      <td>chr1</td>\n",
       "      <td>879584</td>\n",
       "      <td>894689</td>\n",
       "      <td>26155</td>\n",
       "      <td>0</td>\n",
       "    </tr>\n",
       "    <tr>\n",
       "      <th>3</th>\n",
       "      <td>chr1</td>\n",
       "      <td>895967</td>\n",
       "      <td>901095</td>\n",
       "      <td>339451</td>\n",
       "      <td>0</td>\n",
       "    </tr>\n",
       "    <tr>\n",
       "      <th>4</th>\n",
       "      <td>chr1</td>\n",
       "      <td>901877</td>\n",
       "      <td>911245</td>\n",
       "      <td>84069</td>\n",
       "      <td>0</td>\n",
       "    </tr>\n",
       "  </tbody>\n",
       "</table>\n",
       "</div>"
      ],
      "text/plain": [
       "  chromosome  chromosome_start  chromosome_end  entrez_gene_id  snps_hh550\n",
       "0       chr1             69055           70108           79501           0\n",
       "1       chr1            860260          879955          148398           0\n",
       "2       chr1            879584          894689           26155           0\n",
       "3       chr1            895967          901095          339451           0\n",
       "4       chr1            901877          911245           84069           0"
      ]
     },
     "execution_count": 13,
     "metadata": {},
     "output_type": "execute_result"
    }
   ],
   "source": [
    "url = 'https://raw.githubusercontent.com/dhimmel/snplentiful/b795aa195a2c2f35bafb1e6b33c4819bff30d0a7/data/hh550-entrez.bed'\n",
    "old_df = pandas.read_table(url, names=['chromosome', 'chromosome_start', 'chromosome_end', 'entrez_gene_id', 'snps_hh550'])\n",
    "old_df.head()"
   ]
  },
  {
   "cell_type": "code",
   "execution_count": 14,
   "metadata": {
    "collapsed": false
   },
   "outputs": [],
   "source": [
    "new_df = new_df[['chromosome', 'entrez_gene_id', 'snps_hh550']].rename(columns={'snps_hh550': 'snps_hh550_new'})\n",
    "old_df = old_df[['entrez_gene_id', 'snps_hh550']].rename(columns={'snps_hh550': 'snps_hh550_old'})"
   ]
  },
  {
   "cell_type": "code",
   "execution_count": 18,
   "metadata": {
    "collapsed": false
   },
   "outputs": [
    {
     "data": {
      "text/html": [
       "<div>\n",
       "<table border=\"1\" class=\"dataframe\">\n",
       "  <thead>\n",
       "    <tr style=\"text-align: right;\">\n",
       "      <th></th>\n",
       "      <th>chromosome</th>\n",
       "      <th>entrez_gene_id</th>\n",
       "      <th>snps_hh550_new</th>\n",
       "      <th>snps_hh550_old</th>\n",
       "    </tr>\n",
       "  </thead>\n",
       "  <tbody>\n",
       "    <tr>\n",
       "      <th>0</th>\n",
       "      <td>chr1</td>\n",
       "      <td>79501</td>\n",
       "      <td>0</td>\n",
       "      <td>0</td>\n",
       "    </tr>\n",
       "    <tr>\n",
       "      <th>1</th>\n",
       "      <td>chr1</td>\n",
       "      <td>148398</td>\n",
       "      <td>0</td>\n",
       "      <td>0</td>\n",
       "    </tr>\n",
       "  </tbody>\n",
       "</table>\n",
       "</div>"
      ],
      "text/plain": [
       "  chromosome  entrez_gene_id  snps_hh550_new  snps_hh550_old\n",
       "0       chr1           79501               0               0\n",
       "1       chr1          148398               0               0"
      ]
     },
     "execution_count": 18,
     "metadata": {},
     "output_type": "execute_result"
    }
   ],
   "source": [
    "combined_df = new_df.merge(old_df, how='outer')\n",
    "combined_df.head(2)"
   ]
  },
  {
   "cell_type": "code",
   "execution_count": 16,
   "metadata": {
    "collapsed": false
   },
   "outputs": [
    {
     "data": {
      "text/plain": [
       "chr1     1838\n",
       "chr19    1261\n",
       "chr11    1172\n",
       "chr2     1129\n",
       "chr17    1044\n",
       "chr3      986\n",
       "chr12     955\n",
       "chr6      909\n",
       "chr7      781\n",
       "chr5      763\n",
       "chr16     753\n",
       "chr9      714\n",
       "chrX      692\n",
       "chr4      688\n",
       "chr10     687\n",
       "chr8      600\n",
       "chr14     564\n",
       "chr15     530\n",
       "chr20     494\n",
       "chr22     381\n",
       "chr13     288\n",
       "chr18     247\n",
       "chr21     189\n",
       "chrY       20\n",
       "dtype: int64"
      ]
     },
     "execution_count": 16,
     "metadata": {},
     "output_type": "execute_result"
    }
   ],
   "source": [
    "# Genes per chromosome\n",
    "combined_df.chromosome.value_counts()"
   ]
  },
  {
   "cell_type": "code",
   "execution_count": 19,
   "metadata": {
    "collapsed": false
   },
   "outputs": [
    {
     "data": {
      "text/html": [
       "<div>\n",
       "<table border=\"1\" class=\"dataframe\">\n",
       "  <thead>\n",
       "    <tr style=\"text-align: right;\">\n",
       "      <th></th>\n",
       "      <th>snps_hh550_new</th>\n",
       "      <th>snps_hh550_old</th>\n",
       "    </tr>\n",
       "    <tr>\n",
       "      <th>chromosome</th>\n",
       "      <th></th>\n",
       "      <th></th>\n",
       "    </tr>\n",
       "  </thead>\n",
       "  <tbody>\n",
       "    <tr>\n",
       "      <th>chr1</th>\n",
       "      <td>13.734494</td>\n",
       "      <td>13.734494</td>\n",
       "    </tr>\n",
       "    <tr>\n",
       "      <th>chr10</th>\n",
       "      <td>24.048035</td>\n",
       "      <td>24.048035</td>\n",
       "    </tr>\n",
       "    <tr>\n",
       "      <th>chr11</th>\n",
       "      <td>14.226962</td>\n",
       "      <td>14.226962</td>\n",
       "    </tr>\n",
       "    <tr>\n",
       "      <th>chr12</th>\n",
       "      <td>15.940314</td>\n",
       "      <td>15.940314</td>\n",
       "    </tr>\n",
       "    <tr>\n",
       "      <th>chr13</th>\n",
       "      <td>26.184028</td>\n",
       "      <td>26.184028</td>\n",
       "    </tr>\n",
       "    <tr>\n",
       "      <th>chr14</th>\n",
       "      <td>15.914894</td>\n",
       "      <td>15.914894</td>\n",
       "    </tr>\n",
       "    <tr>\n",
       "      <th>chr15</th>\n",
       "      <td>18.201887</td>\n",
       "      <td>18.201887</td>\n",
       "    </tr>\n",
       "    <tr>\n",
       "      <th>chr16</th>\n",
       "      <td>12.057105</td>\n",
       "      <td>12.057105</td>\n",
       "    </tr>\n",
       "    <tr>\n",
       "      <th>chr17</th>\n",
       "      <td>9.886973</td>\n",
       "      <td>9.886973</td>\n",
       "    </tr>\n",
       "    <tr>\n",
       "      <th>chr18</th>\n",
       "      <td>28.797571</td>\n",
       "      <td>28.797571</td>\n",
       "    </tr>\n",
       "    <tr>\n",
       "      <th>chr19</th>\n",
       "      <td>7.367962</td>\n",
       "      <td>7.367962</td>\n",
       "    </tr>\n",
       "    <tr>\n",
       "      <th>chr2</th>\n",
       "      <td>20.252436</td>\n",
       "      <td>20.252436</td>\n",
       "    </tr>\n",
       "    <tr>\n",
       "      <th>chr20</th>\n",
       "      <td>16.716599</td>\n",
       "      <td>16.716599</td>\n",
       "    </tr>\n",
       "    <tr>\n",
       "      <th>chr21</th>\n",
       "      <td>23.550265</td>\n",
       "      <td>23.550265</td>\n",
       "    </tr>\n",
       "    <tr>\n",
       "      <th>chr22</th>\n",
       "      <td>16.574803</td>\n",
       "      <td>16.574803</td>\n",
       "    </tr>\n",
       "    <tr>\n",
       "      <th>chr3</th>\n",
       "      <td>23.077079</td>\n",
       "      <td>23.077079</td>\n",
       "    </tr>\n",
       "    <tr>\n",
       "      <th>chr4</th>\n",
       "      <td>22.309593</td>\n",
       "      <td>22.309593</td>\n",
       "    </tr>\n",
       "    <tr>\n",
       "      <th>chr5</th>\n",
       "      <td>21.296199</td>\n",
       "      <td>21.296199</td>\n",
       "    </tr>\n",
       "    <tr>\n",
       "      <th>chr6</th>\n",
       "      <td>21.079208</td>\n",
       "      <td>21.079208</td>\n",
       "    </tr>\n",
       "    <tr>\n",
       "      <th>chr7</th>\n",
       "      <td>22.531370</td>\n",
       "      <td>22.531370</td>\n",
       "    </tr>\n",
       "    <tr>\n",
       "      <th>chr8</th>\n",
       "      <td>22.875000</td>\n",
       "      <td>22.875000</td>\n",
       "    </tr>\n",
       "    <tr>\n",
       "      <th>chr9</th>\n",
       "      <td>19.871148</td>\n",
       "      <td>19.871148</td>\n",
       "    </tr>\n",
       "    <tr>\n",
       "      <th>chrX</th>\n",
       "      <td>7.963873</td>\n",
       "      <td>0.000000</td>\n",
       "    </tr>\n",
       "    <tr>\n",
       "      <th>chrY</th>\n",
       "      <td>0.300000</td>\n",
       "      <td>0.000000</td>\n",
       "    </tr>\n",
       "  </tbody>\n",
       "</table>\n",
       "</div>"
      ],
      "text/plain": [
       "            snps_hh550_new  snps_hh550_old\n",
       "chromosome                                \n",
       "chr1             13.734494       13.734494\n",
       "chr10            24.048035       24.048035\n",
       "chr11            14.226962       14.226962\n",
       "chr12            15.940314       15.940314\n",
       "chr13            26.184028       26.184028\n",
       "chr14            15.914894       15.914894\n",
       "chr15            18.201887       18.201887\n",
       "chr16            12.057105       12.057105\n",
       "chr17             9.886973        9.886973\n",
       "chr18            28.797571       28.797571\n",
       "chr19             7.367962        7.367962\n",
       "chr2             20.252436       20.252436\n",
       "chr20            16.716599       16.716599\n",
       "chr21            23.550265       23.550265\n",
       "chr22            16.574803       16.574803\n",
       "chr3             23.077079       23.077079\n",
       "chr4             22.309593       22.309593\n",
       "chr5             21.296199       21.296199\n",
       "chr6             21.079208       21.079208\n",
       "chr7             22.531370       22.531370\n",
       "chr8             22.875000       22.875000\n",
       "chr9             19.871148       19.871148\n",
       "chrX              7.963873        0.000000\n",
       "chrY              0.300000        0.000000"
      ]
     },
     "execution_count": 19,
     "metadata": {},
     "output_type": "execute_result"
    }
   ],
   "source": [
    "combined_df.groupby('chromosome')[['snps_hh550_new', 'snps_hh550_old']].mean()"
   ]
  },
  {
   "cell_type": "markdown",
   "metadata": {},
   "source": [
    "## Analyse degree distributions"
   ]
  },
  {
   "cell_type": "code",
   "execution_count": 40,
   "metadata": {
    "collapsed": false
   },
   "outputs": [
    {
     "data": {
      "text/html": [
       "<div>\n",
       "<table border=\"1\" class=\"dataframe\">\n",
       "  <thead>\n",
       "    <tr style=\"text-align: right;\">\n",
       "      <th></th>\n",
       "      <th>entrez_gene_id</th>\n",
       "      <th>symbol</th>\n",
       "      <th>node</th>\n",
       "      <th>metaedge</th>\n",
       "      <th>degree</th>\n",
       "      <th>snps_hh550</th>\n",
       "      <th>snps_ho1</th>\n",
       "      <th>snps_affy500</th>\n",
       "      <th>snps_exac</th>\n",
       "      <th>snps_kg3</th>\n",
       "      <th>degree_log</th>\n",
       "      <th>snps_hh550_log</th>\n",
       "      <th>snps_ho1_log</th>\n",
       "      <th>snps_affy500_log</th>\n",
       "      <th>snps_exac_log</th>\n",
       "      <th>snps_kg3_log</th>\n",
       "    </tr>\n",
       "  </thead>\n",
       "  <tbody>\n",
       "    <tr>\n",
       "      <th>0</th>\n",
       "      <td>1</td>\n",
       "      <td>A1BG</td>\n",
       "      <td>gene::1</td>\n",
       "      <td>gene &lt; overexpression downregulation &lt; gene</td>\n",
       "      <td>0</td>\n",
       "      <td>4</td>\n",
       "      <td>12</td>\n",
       "      <td>1</td>\n",
       "      <td>6</td>\n",
       "      <td>38</td>\n",
       "      <td>0</td>\n",
       "      <td>0.69897</td>\n",
       "      <td>1.1139</td>\n",
       "      <td>0.30103</td>\n",
       "      <td>0.8451</td>\n",
       "      <td>1.5911</td>\n",
       "    </tr>\n",
       "    <tr>\n",
       "      <th>1</th>\n",
       "      <td>1</td>\n",
       "      <td>A1BG</td>\n",
       "      <td>gene::1</td>\n",
       "      <td>gene - participation - molecular function</td>\n",
       "      <td>0</td>\n",
       "      <td>4</td>\n",
       "      <td>12</td>\n",
       "      <td>1</td>\n",
       "      <td>6</td>\n",
       "      <td>38</td>\n",
       "      <td>0</td>\n",
       "      <td>0.69897</td>\n",
       "      <td>1.1139</td>\n",
       "      <td>0.30103</td>\n",
       "      <td>0.8451</td>\n",
       "      <td>1.5911</td>\n",
       "    </tr>\n",
       "  </tbody>\n",
       "</table>\n",
       "</div>"
      ],
      "text/plain": [
       "   entrez_gene_id symbol     node  \\\n",
       "0               1   A1BG  gene::1   \n",
       "1               1   A1BG  gene::1   \n",
       "\n",
       "                                      metaedge  degree  snps_hh550  snps_ho1  \\\n",
       "0  gene < overexpression downregulation < gene       0           4        12   \n",
       "1    gene - participation - molecular function       0           4        12   \n",
       "\n",
       "   snps_affy500  snps_exac  snps_kg3  degree_log  snps_hh550_log  \\\n",
       "0             1          6        38           0         0.69897   \n",
       "1             1          6        38           0         0.69897   \n",
       "\n",
       "   snps_ho1_log  snps_affy500_log  snps_exac_log  snps_kg3_log  \n",
       "0        1.1139           0.30103         0.8451        1.5911  \n",
       "1        1.1139           0.30103         0.8451        1.5911  "
      ]
     },
     "execution_count": 40,
     "metadata": {},
     "output_type": "execute_result"
    }
   ],
   "source": [
    "url = 'https://raw.githubusercontent.com/dhimmel/snplentiful/5238adf66c9a2566e04ca81666fa6b4d47394fa1/data/combined.tsv.gz'\n",
    "new_df = pandas.read_table(gzip.open(io.BytesIO(requests.get(url).content), 'rt'))\n",
    "new_df.head(2)"
   ]
  },
  {
   "cell_type": "code",
   "execution_count": 41,
   "metadata": {
    "collapsed": false
   },
   "outputs": [
    {
     "data": {
      "text/html": [
       "<div>\n",
       "<table border=\"1\" class=\"dataframe\">\n",
       "  <thead>\n",
       "    <tr style=\"text-align: right;\">\n",
       "      <th></th>\n",
       "      <th>entrez_gene_id</th>\n",
       "      <th>symbol</th>\n",
       "      <th>node</th>\n",
       "      <th>metaedge</th>\n",
       "      <th>degree</th>\n",
       "      <th>snps_hh550</th>\n",
       "      <th>snps_ho1</th>\n",
       "      <th>snps_affy500</th>\n",
       "      <th>snps_exac</th>\n",
       "      <th>degree_log</th>\n",
       "      <th>snps_hh550_log</th>\n",
       "      <th>snps_ho1_log</th>\n",
       "      <th>snps_affy500_log</th>\n",
       "      <th>snps_exac_log</th>\n",
       "    </tr>\n",
       "  </thead>\n",
       "  <tbody>\n",
       "    <tr>\n",
       "      <th>0</th>\n",
       "      <td>1</td>\n",
       "      <td>A1BG</td>\n",
       "      <td>gene::1</td>\n",
       "      <td>gene &lt; overexpression downregulation &lt; gene</td>\n",
       "      <td>0</td>\n",
       "      <td>4</td>\n",
       "      <td>12</td>\n",
       "      <td>1</td>\n",
       "      <td>6</td>\n",
       "      <td>0</td>\n",
       "      <td>0.69897</td>\n",
       "      <td>1.113943</td>\n",
       "      <td>0.30103</td>\n",
       "      <td>0.845098</td>\n",
       "    </tr>\n",
       "    <tr>\n",
       "      <th>1</th>\n",
       "      <td>1</td>\n",
       "      <td>A1BG</td>\n",
       "      <td>gene::1</td>\n",
       "      <td>gene - participation - molecular function</td>\n",
       "      <td>0</td>\n",
       "      <td>4</td>\n",
       "      <td>12</td>\n",
       "      <td>1</td>\n",
       "      <td>6</td>\n",
       "      <td>0</td>\n",
       "      <td>0.69897</td>\n",
       "      <td>1.113943</td>\n",
       "      <td>0.30103</td>\n",
       "      <td>0.845098</td>\n",
       "    </tr>\n",
       "  </tbody>\n",
       "</table>\n",
       "</div>"
      ],
      "text/plain": [
       "   entrez_gene_id symbol     node  \\\n",
       "0               1   A1BG  gene::1   \n",
       "1               1   A1BG  gene::1   \n",
       "\n",
       "                                      metaedge  degree  snps_hh550  snps_ho1  \\\n",
       "0  gene < overexpression downregulation < gene       0           4        12   \n",
       "1    gene - participation - molecular function       0           4        12   \n",
       "\n",
       "   snps_affy500  snps_exac  degree_log  snps_hh550_log  snps_ho1_log  \\\n",
       "0             1          6           0         0.69897      1.113943   \n",
       "1             1          6           0         0.69897      1.113943   \n",
       "\n",
       "   snps_affy500_log  snps_exac_log  \n",
       "0           0.30103       0.845098  \n",
       "1           0.30103       0.845098  "
      ]
     },
     "execution_count": 41,
     "metadata": {},
     "output_type": "execute_result"
    }
   ],
   "source": [
    "url = 'https://raw.githubusercontent.com/dhimmel/snplentiful/b795aa195a2c2f35bafb1e6b33c4819bff30d0a7/data/combined.tsv.gz'\n",
    "old_df = pandas.read_table(gzip.open(io.BytesIO(requests.get(url).content), 'rt'))\n",
    "old_df.head(2)"
   ]
  },
  {
   "cell_type": "code",
   "execution_count": 43,
   "metadata": {
    "collapsed": false
   },
   "outputs": [
    {
     "data": {
      "text/plain": [
       "True"
      ]
     },
     "execution_count": 43,
     "metadata": {},
     "output_type": "execute_result"
    }
   ],
   "source": [
    "# Check whether all degrees are the same\n",
    "all(new_df.degree == old_df.degree)"
   ]
  },
  {
   "cell_type": "code",
   "execution_count": 44,
   "metadata": {
    "collapsed": false
   },
   "outputs": [
    {
     "data": {
      "text/html": [
       "<div>\n",
       "<table border=\"1\" class=\"dataframe\">\n",
       "  <thead>\n",
       "    <tr style=\"text-align: right;\">\n",
       "      <th></th>\n",
       "      <th>entrez_gene_id</th>\n",
       "      <th>snps_hh550_log</th>\n",
       "      <th>snps_ho1_log</th>\n",
       "      <th>snps_affy500_log</th>\n",
       "      <th>snps_exac_log</th>\n",
       "      <th>version</th>\n",
       "    </tr>\n",
       "  </thead>\n",
       "  <tbody>\n",
       "    <tr>\n",
       "      <th>0</th>\n",
       "      <td>1</td>\n",
       "      <td>0.698970</td>\n",
       "      <td>1.113943</td>\n",
       "      <td>0.301030</td>\n",
       "      <td>0.845098</td>\n",
       "      <td>old</td>\n",
       "    </tr>\n",
       "    <tr>\n",
       "      <th>26</th>\n",
       "      <td>2</td>\n",
       "      <td>1.079181</td>\n",
       "      <td>1.414973</td>\n",
       "      <td>1.230449</td>\n",
       "      <td>1.079181</td>\n",
       "      <td>old</td>\n",
       "    </tr>\n",
       "  </tbody>\n",
       "</table>\n",
       "</div>"
      ],
      "text/plain": [
       "    entrez_gene_id  snps_hh550_log  snps_ho1_log  snps_affy500_log  \\\n",
       "0                1        0.698970      1.113943          0.301030   \n",
       "26               2        1.079181      1.414973          1.230449   \n",
       "\n",
       "    snps_exac_log version  \n",
       "0        0.845098     old  \n",
       "26       1.079181     old  "
      ]
     },
     "execution_count": 44,
     "metadata": {},
     "output_type": "execute_result"
    }
   ],
   "source": [
    "select = ['entrez_gene_id', 'snps_hh550_log', 'snps_ho1_log', 'snps_affy500_log', 'snps_exac_log']\n",
    "old_df = old_df[select]\n",
    "new_df = new_df[select]\n",
    "old_df['version'] = 'old'\n",
    "new_df['version'] = 'new'\n",
    "combined_df = pandas.concat([old_df, new_df])\n",
    "combined_df = combined_df.drop_duplicates(['entrez_gene_id', 'version'])\n",
    "combined_df.head(2)"
   ]
  },
  {
   "cell_type": "code",
   "execution_count": 45,
   "metadata": {
    "collapsed": true
   },
   "outputs": [],
   "source": [
    "import seaborn\n",
    "%matplotlib inline"
   ]
  },
  {
   "cell_type": "code",
   "execution_count": 46,
   "metadata": {
    "collapsed": false
   },
   "outputs": [
    {
     "data": {
      "image/png": "[encoded data removed]",
      "text/plain": [
       "<matplotlib.figure.Figure at 0x7fa7289fe320>"
      ]
     },
     "metadata": {},
     "output_type": "display_data"
    }
   ],
   "source": [
    "plot_df = pandas.melt(combined_df, id_vars = ['entrez_gene_id', 'version'])\n",
    "grid = seaborn.FacetGrid(plot_df, row='version', col='variable', margin_titles=True, size=2.5)\n",
    "grid.map(seaborn.distplot, 'value', kde=False)\n",
    "grid.set_titles(col_template='{col_name}');\n",
    "grid.savefig('figure/diagnosis-histograms.png', dpi=200)"
   ]
  },
  {
   "cell_type": "code",
   "execution_count": null,
   "metadata": {
    "collapsed": true
   },
   "outputs": [],
   "source": []
  }
 ],
 "metadata": {
  "kernelspec": {
   "display_name": "Python 3",
   "language": "python",
   "name": "python3"
  },
  "language_info": {
   "codemirror_mode": {
    "name": "ipython",
    "version": 3
   },
   "file_extension": ".py",
   "mimetype": "text/x-python",
   "name": "python",
   "nbconvert_exporter": "python",
   "pygments_lexer": "ipython3",
   "version": "3.4.3"
  }
 },
 "nbformat": 4,
 "nbformat_minor": 0
}
