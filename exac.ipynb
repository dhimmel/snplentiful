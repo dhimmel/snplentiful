{
 "cells": [
  {
   "cell_type": "markdown",
   "metadata": {},
   "source": [
    "# Common SNPs per gene in ExAC"
   ]
  },
  {
   "cell_type": "code",
   "execution_count": null,
   "metadata": {
    "collapsed": false
   },
   "outputs": [],
   "source": [
    "# url = 'ftp://ftp.broadinstitute.org/pub/ExAC_release/release0.3/ExAC.r0.3.sites.vep.vcf.gz'\n",
    "# ! wget --timestamping --no-verbose --directory-prefix download {url}"
   ]
  },
  {
   "cell_type": "code",
   "execution_count": null,
   "metadata": {
    "collapsed": true
   },
   "outputs": [],
   "source": [
    "import re\n",
    "import numpy\n",
    "import pandas\n",
    "import vcf"
   ]
  },
  {
   "cell_type": "markdown",
   "metadata": {},
   "source": [
    "## Helper functions"
   ]
  },
  {
   "cell_type": "code",
   "execution_count": null,
   "metadata": {
    "collapsed": true
   },
   "outputs": [],
   "source": [
    "pattern = re.compile('ENSG[0-9]+')\n",
    "\n",
    "def genes_in_csq(csq):\n",
    "    ensembl_genes = set()\n",
    "    for x in csq:\n",
    "        ids = re.findall(pattern, x)\n",
    "        ensembl_genes.update(ids)\n",
    "    return ensembl_genes"
   ]
  },
  {
   "cell_type": "code",
   "execution_count": null,
   "metadata": {
    "collapsed": false
   },
   "outputs": [],
   "source": [
    "def get_allele_frequency(x):\n",
    "    \"\"\"x is list or array\"\"\"\n",
    "    x = numpy.array(x)\n",
    "    return x[(numpy.abs(x - 0.5)).argmin()]"
   ]
  },
  {
   "cell_type": "markdown",
   "metadata": {
    "collapsed": true
   },
   "source": [
    "## Parse"
   ]
  },
  {
   "cell_type": "code",
   "execution_count": null,
   "metadata": {
    "collapsed": true
   },
   "outputs": [],
   "source": [
    "# Options\n",
    "path = 'download/ExAC.r0.3.sites.vep.vcf.gz'\n",
    "maj_af_min = 0.05"
   ]
  },
  {
   "cell_type": "code",
   "execution_count": null,
   "metadata": {
    "collapsed": false
   },
   "outputs": [],
   "source": [
    "rows = []\n",
    "i = 0\n",
    "for r in vcf.Reader(filename=path):\n",
    "    \n",
    "    # Quality control\n",
    "    if r.FILTER:\n",
    "        continue\n",
    "    \n",
    "    # Exclude non-SNPs\n",
    "    if not r.is_snp:\n",
    "        continue\n",
    "    \n",
    "    # Major allele frequency check\n",
    "    allele_freq = get_allele_frequency(r.INFO['AF'])\n",
    "    if not ((allele_freq >= maj_af_min) and\n",
    "            (allele_freq <= 1 - maj_af_min)):\n",
    "        continue\n",
    "\n",
    "    # Extract genes\n",
    "    genes = genes_in_csq(r.INFO.get('CSQ', []))\n",
    "\n",
    "    # Add to rows\n",
    "    row = r.CHROM, r.POS, allele_freq\n",
    "    for gene in genes:\n",
    "        rows.append(row + (gene,))\n",
    "    i += 1\n",
    "    if i > 100:\n",
    "        break\n",
    "\n",
    "exac_df = pandas.DataFrame(rows, columns=['chromosome', 'position', 'allele_freq', 'ensembl_gene_id'])\n",
    "exac_df.head(3)"
   ]
  },
  {
   "cell_type": "code",
   "execution_count": null,
   "metadata": {
    "collapsed": false
   },
   "outputs": [],
   "source": [
    "len(exac_df)"
   ]
  },
  {
   "cell_type": "code",
   "execution_count": null,
   "metadata": {
    "collapsed": true
   },
   "outputs": [],
   "source": [
    "exac_df.to_csv('data/exac-filtered.tsv', index=False, sep='\\t')"
   ]
  },
  {
   "cell_type": "code",
   "execution_count": null,
   "metadata": {
    "collapsed": false
   },
   "outputs": [],
   "source": [
    "# Read Ensembl to Entrez gene mapping\n",
    "url = 'https://raw.githubusercontent.com/dhimmel/entrez-gene/6e133f9ef8ce51a4c5387e58a6cc97564a66cec8/data/xrefs-human.tsv'\n",
    "entrez_map_df = pandas.read_table(url)\n",
    "entrez_map_df = entrez_map_df.query(\"resource == 'Ensembl'\")\n",
    "entrez_map_df = entrez_map_df[['GeneID', 'identifier']]\n",
    "entrez_map_df = entrez_map_df.rename(columns={'GeneID': 'entrez_gene_id', 'identifier': 'ensembl_gene_id'})\n",
    "entrez_map_df.head(2)"
   ]
  },
  {
   "cell_type": "code",
   "execution_count": null,
   "metadata": {
    "collapsed": true
   },
   "outputs": [],
   "source": [
    "exac_df = exac_df.merge(entrez_map_df)"
   ]
  },
  {
   "cell_type": "code",
   "execution_count": null,
   "metadata": {
    "collapsed": false
   },
   "outputs": [],
   "source": [
    "def get_snps_per_gene(df):\n",
    "    df = df.drop_duplicates(['chromosome', 'position'])\n",
    "    return pandas.Series({'snps': len(df)})\n",
    "\n",
    "count_df = exac_df.groupby('entrez_gene_id').apply(get_snps_per_gene).reset_index()\n",
    "count_df.head(2)"
   ]
  },
  {
   "cell_type": "code",
   "execution_count": null,
   "metadata": {
    "collapsed": true
   },
   "outputs": [],
   "source": [
    "count_df.to_csv('data/exac-counts.tsv', index=False, sep='\\t')"
   ]
  }
 ],
 "metadata": {
  "kernelspec": {
   "display_name": "Python 3",
   "language": "python",
   "name": "python3"
  },
  "language_info": {
   "codemirror_mode": {
    "name": "ipython",
    "version": 3
   },
   "file_extension": ".py",
   "mimetype": "text/x-python",
   "name": "python",
   "nbconvert_exporter": "python",
   "pygments_lexer": "ipython3",
   "version": "3.4.3"
  }
 },
 "nbformat": 4,
 "nbformat_minor": 0
}
