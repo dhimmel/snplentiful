{
 "cells": [
  {
   "cell_type": "markdown",
   "metadata": {},
   "source": [
    "# Common SNPs per gene in ExAC"
   ]
  },
  {
   "cell_type": "code",
   "execution_count": 2,
   "metadata": {
    "collapsed": false
   },
   "outputs": [
    {
     "name": "stdout",
     "output_type": "stream",
     "text": [
      "2015-08-18 11:00:59 URL: ftp://ftp.broadinstitute.org/pub/ExAC_release/release0.3/ExAC.r0.3.sites.vep.vcf.gz [1102] -> \"download/.listing\" [1]\n",
      "2015-08-18 11:26:00 URL: ftp://ftp.broadinstitute.org/pub/ExAC_release/release0.3/ExAC.r0.3.sites.vep.vcf.gz [3176043421] -> \"download/ExAC.r0.3.sites.vep.vcf.gz\" [1]\n"
     ]
    }
   ],
   "source": [
    "# url = 'ftp://ftp.broadinstitute.org/pub/ExAC_release/release0.3/ExAC.r0.3.sites.vep.vcf.gz'\n",
    "# ! wget --timestamping --no-verbose --directory-prefix download {url}"
   ]
  },
  {
   "cell_type": "code",
   "execution_count": 74,
   "metadata": {
    "collapsed": true
   },
   "outputs": [],
   "source": [
    "import csv\n",
    "import gzip\n",
    "import re\n",
    "\n",
    "import numpy\n",
    "import pandas"
   ]
  },
  {
   "cell_type": "code",
   "execution_count": 61,
   "metadata": {
    "collapsed": true
   },
   "outputs": [],
   "source": [
    "columns = [\n",
    "    'CHROM',\n",
    "    'POS',\n",
    "    'ID',\n",
    "    'REF',\n",
    "    'ALT',\n",
    "    'QUAL',\n",
    "    'FILTER',\n",
    "    'INFO',\n",
    "]\n",
    "\n",
    "unkown = [\n",
    "    'Allele',\n",
    "    'Gene',\n",
    "    'Feature',\n",
    "    'Feature_type',\n",
    "    'Consequence',\n",
    "    'cDNA_position',\n",
    "    'CDS_position',\n",
    "    'Protein_position',\n",
    "    'Amino_acids',\n",
    "    'Codons',\n",
    "    'Existing_variation',\n",
    "    'ALLELE_NUM',\n",
    "    'DISTANCE',\n",
    "    'STRAND',\n",
    "    'SYMBOL',\n",
    "    'SYMBOL_SOURCE',\n",
    "    'HGNC_ID',\n",
    "    'BIOTYPE',\n",
    "    'CANONICAL',\n",
    "    'CCDS',\n",
    "    'ENSP',\n",
    "    'SWISSPROT',\n",
    "    'TREMBL',\n",
    "    'UNIPARC',\n",
    "    'SIFT',\n",
    "    'PolyPhen',\n",
    "    'EXON',\n",
    "    'INTRON',\n",
    "    'DOMAINS',\n",
    "    'HGVSc',\n",
    "    'HGVSp',\n",
    "    'GMAF',\n",
    "    'AFR_MAF',\n",
    "    'AMR_MAF',\n",
    "    'ASN_MAF',\n",
    "    'EUR_MAF',\n",
    "    'AA_MAF',\n",
    "    'EA_MAF',\n",
    "    'CLIN_SIG',\n",
    "    'SOMATIC',\n",
    "    'PUBMED',\n",
    "    'MOTIF_NAME',\n",
    "    'MOTIF_POS',\n",
    "    'HIGH_INF_POS',\n",
    "    'MOTIF_SCORE_CHANGE',\n",
    "    'LoF_info',\n",
    "    'LoF_flags',\n",
    "    'LoF_filter',\n",
    "    'LoF',\n",
    "]"
   ]
  },
  {
   "cell_type": "code",
   "execution_count": 63,
   "metadata": {
    "collapsed": false
   },
   "outputs": [],
   "source": [
    "def exac_row_generator(path):\n",
    "    \"\"\"Parse ExAC VCF. We are unsure of the format so this is a very jerry-rigged parser.\"\"\"\n",
    "    read_file = gzip.open(path, 'rt')\n",
    "    for line in read_file:\n",
    "        if line.startswith('#'):\n",
    "            continue\n",
    "        line = line.rstrip()\n",
    "        row = line.split('\\t')\n",
    "        top_dict = dict(zip(columns, row))\n",
    "        info_dict = top_dict['INFO'].split('|')\n",
    "        semicolon_dict = dict()\n",
    "        for kvpair in info_dict[0].split(';'):\n",
    "            try:\n",
    "                key, value = kvpair.split('=')\n",
    "                value = value.split(',')\n",
    "                semicolon_dict[key] = value\n",
    "            except ValueError:\n",
    "                pass\n",
    "        yield top_dict, semicolon_dict\n",
    "    read_file.close()"
   ]
  },
  {
   "cell_type": "code",
   "execution_count": 70,
   "metadata": {
    "collapsed": true
   },
   "outputs": [],
   "source": [
    "def get_allele_frequency(x):\n",
    "    \"\"\"x is list or array\"\"\"\n",
    "    x = numpy.array(x)\n",
    "    return x[(numpy.abs(x - 0.5)).argmin()]"
   ]
  },
  {
   "cell_type": "code",
   "execution_count": 78,
   "metadata": {
    "collapsed": false
   },
   "outputs": [],
   "source": [
    "maj_af_min = 0.05\n",
    "path = 'download/ExAC.r0.3.sites.vep.vcf.gz'\n",
    "rows = []\n",
    "for i, (top_dict, semicolon_dict) in enumerate(exac_row_generator(path)):\n",
    "\n",
    "    # Quality control\n",
    "    if top_dict['FILTER'] != 'PASS':\n",
    "        continue\n",
    "\n",
    "    # Major allele frequency check\n",
    "    allele_freqs = [float(af) for af in semicolon_dict['AF']]\n",
    "    allele_freq = get_allele_frequency(allele_freqs)\n",
    "    if not ((allele_freq >= maj_af_min) and (allele_freq <= 1 - maj_af_min)):\n",
    "        continue\n",
    "    \n",
    "    # Extract ensembl genes and append row\n",
    "    for gene in set(re.findall('ENSG[0-9]+', top_dict['INFO'])):\n",
    "        row = top_dict['CHROM'], top_dict['POS'], allele_freq, gene\n",
    "        rows.append(row)\n",
    "\n",
    "exac_df = pandas.DataFrame(rows, columns=['chromosome', 'position', 'allele_freq', 'ensembl_gene_id'])"
   ]
  },
  {
   "cell_type": "code",
   "execution_count": 79,
   "metadata": {
    "collapsed": false
   },
   "outputs": [
    {
     "data": {
      "text/html": [
       "<div>\n",
       "<table border=\"1\" class=\"dataframe\">\n",
       "  <thead>\n",
       "    <tr style=\"text-align: right;\">\n",
       "      <th></th>\n",
       "      <th>chromosome</th>\n",
       "      <th>position</th>\n",
       "      <th>allele_freq</th>\n",
       "      <th>ensembl_gene_id</th>\n",
       "    </tr>\n",
       "  </thead>\n",
       "  <tbody>\n",
       "    <tr>\n",
       "      <th>0</th>\n",
       "      <td>1</td>\n",
       "      <td>13417</td>\n",
       "      <td>0.067</td>\n",
       "      <td>ENSG00000223972</td>\n",
       "    </tr>\n",
       "    <tr>\n",
       "      <th>1</th>\n",
       "      <td>1</td>\n",
       "      <td>69270</td>\n",
       "      <td>0.681</td>\n",
       "      <td>ENSG00000186092</td>\n",
       "    </tr>\n",
       "    <tr>\n",
       "      <th>2</th>\n",
       "      <td>1</td>\n",
       "      <td>69511</td>\n",
       "      <td>0.894</td>\n",
       "      <td>ENSG00000186092</td>\n",
       "    </tr>\n",
       "  </tbody>\n",
       "</table>\n",
       "</div>"
      ],
      "text/plain": [
       "  chromosome position  allele_freq  ensembl_gene_id\n",
       "0          1    13417        0.067  ENSG00000223972\n",
       "1          1    69270        0.681  ENSG00000186092\n",
       "2          1    69511        0.894  ENSG00000186092"
      ]
     },
     "execution_count": 79,
     "metadata": {},
     "output_type": "execute_result"
    }
   ],
   "source": [
    "exac_df.head(3)"
   ]
  },
  {
   "cell_type": "code",
   "execution_count": 80,
   "metadata": {
    "collapsed": false
   },
   "outputs": [
    {
     "data": {
      "text/plain": [
       "109473"
      ]
     },
     "execution_count": 80,
     "metadata": {},
     "output_type": "execute_result"
    }
   ],
   "source": [
    "len(exac_df)"
   ]
  },
  {
   "cell_type": "code",
   "execution_count": 86,
   "metadata": {
    "collapsed": true
   },
   "outputs": [],
   "source": [
    "exac_df.to_csv('data/exac-filtered.tsv', index=False, sep='\\t')"
   ]
  },
  {
   "cell_type": "code",
   "execution_count": 82,
   "metadata": {
    "collapsed": false
   },
   "outputs": [
    {
     "data": {
      "text/html": [
       "<div>\n",
       "<table border=\"1\" class=\"dataframe\">\n",
       "  <thead>\n",
       "    <tr style=\"text-align: right;\">\n",
       "      <th></th>\n",
       "      <th>entrez_gene_id</th>\n",
       "      <th>ensembl_gene_id</th>\n",
       "    </tr>\n",
       "  </thead>\n",
       "  <tbody>\n",
       "    <tr>\n",
       "      <th>2</th>\n",
       "      <td>1</td>\n",
       "      <td>ENSG00000121410</td>\n",
       "    </tr>\n",
       "    <tr>\n",
       "      <th>7</th>\n",
       "      <td>2</td>\n",
       "      <td>ENSG00000175899</td>\n",
       "    </tr>\n",
       "  </tbody>\n",
       "</table>\n",
       "</div>"
      ],
      "text/plain": [
       "   entrez_gene_id  ensembl_gene_id\n",
       "2               1  ENSG00000121410\n",
       "7               2  ENSG00000175899"
      ]
     },
     "execution_count": 82,
     "metadata": {},
     "output_type": "execute_result"
    }
   ],
   "source": [
    "# Read Ensembl to Entrez gene mapping\n",
    "url = 'https://raw.githubusercontent.com/dhimmel/entrez-gene/6e133f9ef8ce51a4c5387e58a6cc97564a66cec8/data/xrefs-human.tsv'\n",
    "entrez_map_df = pandas.read_table(url)\n",
    "entrez_map_df = entrez_map_df.query(\"resource == 'Ensembl'\")\n",
    "entrez_map_df = entrez_map_df[['GeneID', 'identifier']]\n",
    "entrez_map_df = entrez_map_df.rename(columns={'GeneID': 'entrez_gene_id', 'identifier': 'ensembl_gene_id'})\n",
    "entrez_map_df.head(2)"
   ]
  },
  {
   "cell_type": "code",
   "execution_count": 88,
   "metadata": {
    "collapsed": true
   },
   "outputs": [],
   "source": [
    "exac_df = exac_df.merge(entrez_map_df)"
   ]
  },
  {
   "cell_type": "code",
   "execution_count": 97,
   "metadata": {
    "collapsed": false
   },
   "outputs": [
    {
     "data": {
      "text/html": [
       "<div>\n",
       "<table border=\"1\" class=\"dataframe\">\n",
       "  <thead>\n",
       "    <tr style=\"text-align: right;\">\n",
       "      <th></th>\n",
       "      <th>entrez_gene_id</th>\n",
       "      <th>snps</th>\n",
       "    </tr>\n",
       "  </thead>\n",
       "  <tbody>\n",
       "    <tr>\n",
       "      <th>0</th>\n",
       "      <td>1</td>\n",
       "      <td>5</td>\n",
       "    </tr>\n",
       "    <tr>\n",
       "      <th>1</th>\n",
       "      <td>2</td>\n",
       "      <td>13</td>\n",
       "    </tr>\n",
       "  </tbody>\n",
       "</table>\n",
       "</div>"
      ],
      "text/plain": [
       "   entrez_gene_id  snps\n",
       "0               1     5\n",
       "1               2    13"
      ]
     },
     "execution_count": 97,
     "metadata": {},
     "output_type": "execute_result"
    }
   ],
   "source": [
    "def get_snps_per_gene(df):\n",
    "    df = df.drop_duplicates(['chromosome', 'position'])\n",
    "    return pandas.Series({'snps': len(df)})\n",
    "\n",
    "count_df = exac_df.groupby('entrez_gene_id').apply(get_snps_per_gene).reset_index()\n",
    "count_df.head(2)"
   ]
  },
  {
   "cell_type": "code",
   "execution_count": 98,
   "metadata": {
    "collapsed": true
   },
   "outputs": [],
   "source": [
    "count_df.to_csv('data/exac-counts.tsv', index=False, sep='\\t')"
   ]
  }
 ],
 "metadata": {
  "kernelspec": {
   "display_name": "Python 3",
   "language": "python",
   "name": "python3"
  },
  "language_info": {
   "codemirror_mode": {
    "name": "ipython",
    "version": 3
   },
   "file_extension": ".py",
   "mimetype": "text/x-python",
   "name": "python",
   "nbconvert_exporter": "python",
   "pygments_lexer": "ipython3",
   "version": "3.4.3"
  }
 },
 "nbformat": 4,
 "nbformat_minor": 0
}
