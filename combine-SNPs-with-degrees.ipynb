{
 "cells": [
  {
   "cell_type": "markdown",
   "metadata": {},
   "source": [
    "# SNPlentiful - correlations with number of SNPs per gene"
   ]
  },
  {
   "cell_type": "code",
   "execution_count": 1,
   "metadata": {
    "collapsed": true
   },
   "outputs": [],
   "source": [
    "import gzip\n",
    "\n",
    "import pandas\n",
    "import numpy\n",
    "import matplotlib.pyplot\n",
    "import seaborn\n",
    "\n",
    "%matplotlib inline"
   ]
  },
  {
   "cell_type": "code",
   "execution_count": 2,
   "metadata": {
    "collapsed": false
   },
   "outputs": [
    {
     "data": {
      "text/html": [
       "<div>\n",
       "<table border=\"1\" class=\"dataframe\">\n",
       "  <thead>\n",
       "    <tr style=\"text-align: right;\">\n",
       "      <th></th>\n",
       "      <th>entrez_gene_id</th>\n",
       "      <th>symbol</th>\n",
       "      <th>node</th>\n",
       "      <th>metaedge</th>\n",
       "      <th>degree</th>\n",
       "    </tr>\n",
       "  </thead>\n",
       "  <tbody>\n",
       "    <tr>\n",
       "      <th>0</th>\n",
       "      <td>1</td>\n",
       "      <td>A1BG</td>\n",
       "      <td>gene::1</td>\n",
       "      <td>gene &lt; overexpression downregulation &lt; gene</td>\n",
       "      <td>0</td>\n",
       "    </tr>\n",
       "    <tr>\n",
       "      <th>1</th>\n",
       "      <td>1</td>\n",
       "      <td>A1BG</td>\n",
       "      <td>gene::1</td>\n",
       "      <td>gene - participation - molecular function</td>\n",
       "      <td>0</td>\n",
       "    </tr>\n",
       "  </tbody>\n",
       "</table>\n",
       "</div>"
      ],
      "text/plain": [
       "   entrez_gene_id symbol     node  \\\n",
       "0               1   A1BG  gene::1   \n",
       "1               1   A1BG  gene::1   \n",
       "\n",
       "                                      metaedge  degree  \n",
       "0  gene < overexpression downregulation < gene       0  \n",
       "1    gene - participation - molecular function       0  "
      ]
     },
     "execution_count": 2,
     "metadata": {},
     "output_type": "execute_result"
    }
   ],
   "source": [
    "# Read gene connectivity degrees\n",
    "degree_df = pandas.read_table('data/gene-degrees.tsv.gz')\n",
    "degree_df.head(2)"
   ]
  },
  {
   "cell_type": "code",
   "execution_count": 3,
   "metadata": {
    "collapsed": false
   },
   "outputs": [
    {
     "data": {
      "text/html": [
       "<div>\n",
       "<table border=\"1\" class=\"dataframe\">\n",
       "  <thead>\n",
       "    <tr style=\"text-align: right;\">\n",
       "      <th></th>\n",
       "      <th>entrez_gene_id</th>\n",
       "      <th>snps_hh550</th>\n",
       "      <th>snps_ho1</th>\n",
       "    </tr>\n",
       "  </thead>\n",
       "  <tbody>\n",
       "    <tr>\n",
       "      <th>0</th>\n",
       "      <td>79501</td>\n",
       "      <td>0</td>\n",
       "      <td>0</td>\n",
       "    </tr>\n",
       "    <tr>\n",
       "      <th>1</th>\n",
       "      <td>148398</td>\n",
       "      <td>0</td>\n",
       "      <td>13</td>\n",
       "    </tr>\n",
       "  </tbody>\n",
       "</table>\n",
       "</div>"
      ],
      "text/plain": [
       "   entrez_gene_id  snps_hh550  snps_ho1\n",
       "0           79501           0         0\n",
       "1          148398           0        13"
      ]
     },
     "execution_count": 3,
     "metadata": {},
     "output_type": "execute_result"
    }
   ],
   "source": [
    "# Read SNPs per Gene\n",
    "columns = ['chromosome', 'chromosome_start', 'chromosome_end', 'entrez_gene_id', 'snps']\n",
    "\n",
    "# Read SNPs per gene in the  Illumina HumanHap550\n",
    "bed_hh550_df = pandas.read_table('data/hh550-entrez.bed', names=columns)\n",
    "bed_hh550_df = bed_hh550_df[['entrez_gene_id', 'snps']].rename(columns={'snps': 'snps_hh550'})\n",
    "\n",
    "# Read SNPs per gene in the Illumina Human Omni 1\n",
    "bed_ho1_df = pandas.read_table('data/ho1-entrez.bed', names=columns)\n",
    "bed_ho1_df = bed_ho1_df[['entrez_gene_id', 'snps']].rename(columns={'snps': 'snps_ho1'})\n",
    "\n",
    "snp_count_df = bed_hh550_df.merge(bed_ho1_df, how='outer')\n",
    "snp_count_df.head(2)"
   ]
  },
  {
   "cell_type": "code",
   "execution_count": 4,
   "metadata": {
    "collapsed": false
   },
   "outputs": [
    {
     "data": {
      "text/html": [
       "<div>\n",
       "<table border=\"1\" class=\"dataframe\">\n",
       "  <thead>\n",
       "    <tr style=\"text-align: right;\">\n",
       "      <th></th>\n",
       "      <th>entrez_gene_id</th>\n",
       "      <th>symbol</th>\n",
       "      <th>node</th>\n",
       "      <th>metaedge</th>\n",
       "      <th>degree</th>\n",
       "      <th>snps_hh550</th>\n",
       "      <th>snps_ho1</th>\n",
       "      <th>degree_log</th>\n",
       "      <th>snps_hh550_log</th>\n",
       "      <th>snps_ho1_log</th>\n",
       "    </tr>\n",
       "  </thead>\n",
       "  <tbody>\n",
       "    <tr>\n",
       "      <th>0</th>\n",
       "      <td>1</td>\n",
       "      <td>A1BG</td>\n",
       "      <td>gene::1</td>\n",
       "      <td>gene &lt; overexpression downregulation &lt; gene</td>\n",
       "      <td>0</td>\n",
       "      <td>4</td>\n",
       "      <td>12</td>\n",
       "      <td>0</td>\n",
       "      <td>0.69897</td>\n",
       "      <td>1.113943</td>\n",
       "    </tr>\n",
       "    <tr>\n",
       "      <th>1</th>\n",
       "      <td>1</td>\n",
       "      <td>A1BG</td>\n",
       "      <td>gene::1</td>\n",
       "      <td>gene - participation - molecular function</td>\n",
       "      <td>0</td>\n",
       "      <td>4</td>\n",
       "      <td>12</td>\n",
       "      <td>0</td>\n",
       "      <td>0.69897</td>\n",
       "      <td>1.113943</td>\n",
       "    </tr>\n",
       "  </tbody>\n",
       "</table>\n",
       "</div>"
      ],
      "text/plain": [
       "   entrez_gene_id symbol     node  \\\n",
       "0               1   A1BG  gene::1   \n",
       "1               1   A1BG  gene::1   \n",
       "\n",
       "                                      metaedge  degree  snps_hh550  snps_ho1  \\\n",
       "0  gene < overexpression downregulation < gene       0           4        12   \n",
       "1    gene - participation - molecular function       0           4        12   \n",
       "\n",
       "   degree_log  snps_hh550_log  snps_ho1_log  \n",
       "0           0         0.69897      1.113943  \n",
       "1           0         0.69897      1.113943  "
      ]
     },
     "execution_count": 4,
     "metadata": {},
     "output_type": "execute_result"
    }
   ],
   "source": [
    "long_df = degree_df.merge(snp_count_df)\n",
    "assert not any(long_df.duplicated(['entrez_gene_id', 'metaedge']))\n",
    "for column in 'degree', 'snps_hh550', 'snps_ho1':\n",
    "    long_df['{}_log'.format(column)] = numpy.log10(1 + long_df[column])\n",
    "with gzip.open('data/combined.tsv.gz', 'wt') as write_file:\n",
    "    long_df.to_csv(write_file, index=False, sep='\\t')\n",
    "long_df.head(2)"
   ]
  },
  {
   "cell_type": "markdown",
   "metadata": {},
   "source": [
    "## Visualization"
   ]
  },
  {
   "cell_type": "code",
   "execution_count": 5,
   "metadata": {
    "collapsed": true
   },
   "outputs": [],
   "source": [
    "long_df = pandas.read_table('data/combined.tsv.gz')"
   ]
  },
  {
   "cell_type": "code",
   "execution_count": 6,
   "metadata": {
    "collapsed": false
   },
   "outputs": [
    {
     "data": {
      "image/png": "[encoded data removed]",
      "text/plain": [
       "<matplotlib.figure.Figure at 0x7fab63811208>"
      ]
     },
     "metadata": {},
     "output_type": "display_data"
    }
   ],
   "source": [
    "with seaborn.axes_style('white'):\n",
    "    grid = seaborn.jointplot(x='snps_hh550_log', y='snps_ho1_log', data=long_df, kind='hex', gridsize=25, size=4)"
   ]
  },
  {
   "cell_type": "code",
   "execution_count": 7,
   "metadata": {
    "collapsed": false
   },
   "outputs": [
    {
     "data": {
      "text/plain": [
       "array([ 30.6227766 ,  46.86300923])"
      ]
     },
     "execution_count": 7,
     "metadata": {},
     "output_type": "execute_result"
    }
   ],
   "source": [
    "log_to_degree = lambda x: 10**x - 1\n",
    "log_to_degree(numpy.array([1.5, 1.68]))"
   ]
  }
 ],
 "metadata": {
  "kernelspec": {
   "display_name": "Python 3",
   "language": "python",
   "name": "python3"
  },
  "language_info": {
   "codemirror_mode": {
    "name": "ipython",
    "version": 3
   },
   "file_extension": ".py",
   "mimetype": "text/x-python",
   "name": "python",
   "nbconvert_exporter": "python",
   "pygments_lexer": "ipython3",
   "version": "3.4.3"
  }
 },
 "nbformat": 4,
 "nbformat_minor": 0
}
