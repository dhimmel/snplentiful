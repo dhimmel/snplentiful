{
 "cells": [
  {
   "cell_type": "markdown",
   "metadata": {},
   "source": [
    "# Extracting degree information from `hetio-ind`"
   ]
  },
  {
   "cell_type": "code",
   "execution_count": 1,
   "metadata": {
    "collapsed": true
   },
   "outputs": [],
   "source": [
    "import gzip\n",
    "\n",
    "import pandas\n",
    "\n",
    "import hetio.readwrite\n",
    "import hetio.stats"
   ]
  },
  {
   "cell_type": "markdown",
   "metadata": {},
   "source": [
    "## Download network"
   ]
  },
  {
   "cell_type": "code",
   "execution_count": 2,
   "metadata": {
    "collapsed": true
   },
   "outputs": [],
   "source": [
    "commit = 'f72d32ce09b8884b6ec7e000ec261c116b340198'"
   ]
  },
  {
   "cell_type": "code",
   "execution_count": 3,
   "metadata": {
    "collapsed": false
   },
   "outputs": [],
   "source": [
    "# # Download heterogeneous network\n",
    "# url = 'https://raw.githubusercontent.com/dhimmel/integrate/{}/data/graph.json.gz'.format(commit)\n",
    "# ! wget --no-verbose --timestamping --directory-prefix download {url}"
   ]
  },
  {
   "cell_type": "code",
   "execution_count": 4,
   "metadata": {
    "collapsed": false
   },
   "outputs": [],
   "source": [
    "# # Summary of metaegdes starting on Gene\n",
    "# url = 'https://raw.githubusercontent.com/dhimmel/integrate/{}/data/summary/metaedges.tsv'.format(commit)\n",
    "# summary_df = pandas.read_table(url)\n",
    "# summary_df = summary_df[summary_df.metaedge.str.startswith('gene ')]\n",
    "# summary_df.to_csv('download/network-summary.tsv', sep='\\t', index=False)\n",
    "# summary_df.head(2)"
   ]
  },
  {
   "cell_type": "markdown",
   "metadata": {},
   "source": [
    "## Read network and compute degrees"
   ]
  },
  {
   "cell_type": "code",
   "execution_count": 5,
   "metadata": {
    "collapsed": false
   },
   "outputs": [
    {
     "name": "stdout",
     "output_type": "stream",
     "text": [
      "CPU times: user 2min 20s, sys: 15.4 s, total: 2min 36s\n",
      "Wall time: 2min 36s\n"
     ]
    }
   ],
   "source": [
    "%%time\n",
    "# Read the heterogeneous network\n",
    "graph = hetio.readwrite.read_json('download/graph.json.gz')"
   ]
  },
  {
   "cell_type": "code",
   "execution_count": 6,
   "metadata": {
    "collapsed": false
   },
   "outputs": [],
   "source": [
    "# Calculate degrees for genes\n",
    "gene = graph.metagraph.get_node('gene')\n",
    "degree_df = hetio.stats.get_degrees_for_metanode(graph, gene)"
   ]
  },
  {
   "cell_type": "code",
   "execution_count": 7,
   "metadata": {
    "collapsed": false
   },
   "outputs": [
    {
     "data": {
      "text/html": [
       "<div>\n",
       "<table border=\"1\" class=\"dataframe\">\n",
       "  <thead>\n",
       "    <tr style=\"text-align: right;\">\n",
       "      <th></th>\n",
       "      <th>entrez_gene_id</th>\n",
       "      <th>symbol</th>\n",
       "      <th>metaedge</th>\n",
       "      <th>degree</th>\n",
       "    </tr>\n",
       "  </thead>\n",
       "  <tbody>\n",
       "    <tr>\n",
       "      <th>428420</th>\n",
       "      <td>1</td>\n",
       "      <td>A1BG</td>\n",
       "      <td>gene - association - disease</td>\n",
       "      <td>1</td>\n",
       "    </tr>\n",
       "    <tr>\n",
       "      <th>428419</th>\n",
       "      <td>1</td>\n",
       "      <td>A1BG</td>\n",
       "      <td>gene - binding - compound</td>\n",
       "      <td>0</td>\n",
       "    </tr>\n",
       "  </tbody>\n",
       "</table>\n",
       "</div>"
      ],
      "text/plain": [
       "        entrez_gene_id symbol                      metaedge  degree\n",
       "428420               1   A1BG  gene - association - disease       1\n",
       "428419               1   A1BG     gene - binding - compound       0"
      ]
     },
     "execution_count": 7,
     "metadata": {},
     "output_type": "execute_result"
    }
   ],
   "source": [
    "# Entrez genes and symbols\n",
    "degree_df['entrez_gene_id'] = degree_df['node_id'].map(lambda x: int(str(x).split('::')[1]))\n",
    "degree_df = degree_df.rename(columns={'node_name': 'symbol'})\n",
    "degree_df = degree_df[['entrez_gene_id', 'symbol', 'metaedge', 'degree']]\n",
    "degree_df.head(2)"
   ]
  },
  {
   "cell_type": "code",
   "execution_count": 9,
   "metadata": {
    "collapsed": false
   },
   "outputs": [],
   "source": [
    "# Save as tsv\n",
    "with gzip.open('data/gene-degrees.tsv.gz', 'wt') as write_file:\n",
    "    degree_df.to_csv(write_file, sep='\\t', index=False)"
   ]
  }
 ],
 "metadata": {
  "kernelspec": {
   "display_name": "Python 3",
   "language": "python",
   "name": "python3"
  },
  "language_info": {
   "codemirror_mode": {
    "name": "ipython",
    "version": 3
   },
   "file_extension": ".py",
   "mimetype": "text/x-python",
   "name": "python",
   "nbconvert_exporter": "python",
   "pygments_lexer": "ipython3",
   "version": "3.4.3"
  }
 },
 "nbformat": 4,
 "nbformat_minor": 0
}
