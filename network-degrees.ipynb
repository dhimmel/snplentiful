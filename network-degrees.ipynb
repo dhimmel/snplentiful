{
 "cells": [
  {
   "cell_type": "markdown",
   "metadata": {},
   "source": [
    "# Extracting degree information from `hetio-ind`"
   ]
  },
  {
   "cell_type": "code",
   "execution_count": 1,
   "metadata": {
    "collapsed": true
   },
   "outputs": [],
   "source": [
    "import gzip\n",
    "\n",
    "import pandas\n",
    "\n",
    "import hetio.readwrite\n",
    "import hetio.stats"
   ]
  },
  {
   "cell_type": "code",
   "execution_count": 2,
   "metadata": {
    "collapsed": false
   },
   "outputs": [
    {
     "name": "stdout",
     "output_type": "stream",
     "text": [
      "No data received.\n",
      "Last-modified header missing -- time-stamps turned off.\n",
      "2015-08-16 11:20:08 URL:https://raw.githubusercontent.com/dhimmel/integrate/2256f1d6d01758c8bab59212a68d890ecb42bb7f/data/graph.json.gz [39660493/39660493] -> \"download/graph.json.gz\" [1]\n"
     ]
    }
   ],
   "source": [
    "# Download heterogeneous network\n",
    "url = 'https://raw.githubusercontent.com/dhimmel/integrate/2256f1d6d01758c8bab59212a68d890ecb42bb7f/data/graph.json.gz'\n",
    "! wget --no-verbose --timestamping --directory-prefix download {url}"
   ]
  },
  {
   "cell_type": "code",
   "execution_count": 3,
   "metadata": {
    "collapsed": true
   },
   "outputs": [],
   "source": [
    "# Read the heterogeneous network\n",
    "graph = hetio.readwrite.read_json('download/graph.json.gz')"
   ]
  },
  {
   "cell_type": "code",
   "execution_count": 4,
   "metadata": {
    "collapsed": false
   },
   "outputs": [],
   "source": [
    "# Calculate degrees for genes\n",
    "gene = graph.metagraph.get_node('gene')\n",
    "degree_df = hetio.stats.get_degrees_for_metanode(graph, gene)"
   ]
  },
  {
   "cell_type": "code",
   "execution_count": 5,
   "metadata": {
    "collapsed": false
   },
   "outputs": [
    {
     "data": {
      "text/html": [
       "<div>\n",
       "<table border=\"1\" class=\"dataframe\">\n",
       "  <thead>\n",
       "    <tr style=\"text-align: right;\">\n",
       "      <th></th>\n",
       "      <th>node</th>\n",
       "      <th>metaedge</th>\n",
       "      <th>degree</th>\n",
       "      <th>entrez_gene_id</th>\n",
       "    </tr>\n",
       "  </thead>\n",
       "  <tbody>\n",
       "    <tr>\n",
       "      <th>0</th>\n",
       "      <td>gene::3008</td>\n",
       "      <td>gene &lt; overexpression downregulation &lt; gene</td>\n",
       "      <td>0</td>\n",
       "      <td>3008</td>\n",
       "    </tr>\n",
       "    <tr>\n",
       "      <th>1</th>\n",
       "      <td>gene::3008</td>\n",
       "      <td>gene - participation - molecular function</td>\n",
       "      <td>3</td>\n",
       "      <td>3008</td>\n",
       "    </tr>\n",
       "  </tbody>\n",
       "</table>\n",
       "</div>"
      ],
      "text/plain": [
       "         node                                     metaedge  degree  \\\n",
       "0  gene::3008  gene < overexpression downregulation < gene       0   \n",
       "1  gene::3008    gene - participation - molecular function       3   \n",
       "\n",
       "   entrez_gene_id  \n",
       "0            3008  \n",
       "1            3008  "
      ]
     },
     "execution_count": 5,
     "metadata": {},
     "output_type": "execute_result"
    }
   ],
   "source": [
    "degree_df['entrez_gene_id'] = degree_df['node'].map(lambda x: int(str(x).split('::')[1]))\n",
    "degree_df.head(2)"
   ]
  },
  {
   "cell_type": "code",
   "execution_count": 6,
   "metadata": {
    "collapsed": false
   },
   "outputs": [
    {
     "data": {
      "text/html": [
       "<div>\n",
       "<table border=\"1\" class=\"dataframe\">\n",
       "  <thead>\n",
       "    <tr style=\"text-align: right;\">\n",
       "      <th></th>\n",
       "      <th>entrez_gene_id</th>\n",
       "      <th>symbol</th>\n",
       "    </tr>\n",
       "  </thead>\n",
       "  <tbody>\n",
       "    <tr>\n",
       "      <th>0</th>\n",
       "      <td>1</td>\n",
       "      <td>A1BG</td>\n",
       "    </tr>\n",
       "    <tr>\n",
       "      <th>1</th>\n",
       "      <td>2</td>\n",
       "      <td>A2M</td>\n",
       "    </tr>\n",
       "  </tbody>\n",
       "</table>\n",
       "</div>"
      ],
      "text/plain": [
       "   entrez_gene_id symbol\n",
       "0               1   A1BG\n",
       "1               2    A2M"
      ]
     },
     "execution_count": 6,
     "metadata": {},
     "output_type": "execute_result"
    }
   ],
   "source": [
    "# Read entrez gene\n",
    "url = 'https://raw.githubusercontent.com/dhimmel/entrez-gene/6e133f9ef8ce51a4c5387e58a6cc97564a66cec8/data/genes-human.tsv'\n",
    "entrez_df = pandas.read_table(url)\n",
    "entrez_df = entrez_df.query(\"type_of_gene == 'protein-coding'\")\n",
    "entrez_df = entrez_df[['GeneID', 'Symbol']]\n",
    "entrez_df = entrez_df.rename(columns={'GeneID': 'entrez_gene_id', 'Symbol': 'symbol'})\n",
    "entrez_df.head(2)"
   ]
  },
  {
   "cell_type": "code",
   "execution_count": 7,
   "metadata": {
    "collapsed": false
   },
   "outputs": [
    {
     "data": {
      "text/html": [
       "<div>\n",
       "<table border=\"1\" class=\"dataframe\">\n",
       "  <thead>\n",
       "    <tr style=\"text-align: right;\">\n",
       "      <th></th>\n",
       "      <th>entrez_gene_id</th>\n",
       "      <th>symbol</th>\n",
       "      <th>node</th>\n",
       "      <th>metaedge</th>\n",
       "      <th>degree</th>\n",
       "    </tr>\n",
       "  </thead>\n",
       "  <tbody>\n",
       "    <tr>\n",
       "      <th>0</th>\n",
       "      <td>1</td>\n",
       "      <td>A1BG</td>\n",
       "      <td>gene::1</td>\n",
       "      <td>gene &lt; overexpression downregulation &lt; gene</td>\n",
       "      <td>0</td>\n",
       "    </tr>\n",
       "    <tr>\n",
       "      <th>1</th>\n",
       "      <td>1</td>\n",
       "      <td>A1BG</td>\n",
       "      <td>gene::1</td>\n",
       "      <td>gene - participation - molecular function</td>\n",
       "      <td>0</td>\n",
       "    </tr>\n",
       "  </tbody>\n",
       "</table>\n",
       "</div>"
      ],
      "text/plain": [
       "   entrez_gene_id symbol     node  \\\n",
       "0               1   A1BG  gene::1   \n",
       "1               1   A1BG  gene::1   \n",
       "\n",
       "                                      metaedge  degree  \n",
       "0  gene < overexpression downregulation < gene       0  \n",
       "1    gene - participation - molecular function       0  "
      ]
     },
     "execution_count": 7,
     "metadata": {},
     "output_type": "execute_result"
    }
   ],
   "source": [
    "# Merge Entrez Gene info and node degrees\n",
    "gene_df = entrez_df.merge(degree_df)\n",
    "gene_df.head(2)"
   ]
  },
  {
   "cell_type": "code",
   "execution_count": 8,
   "metadata": {
    "collapsed": false
   },
   "outputs": [],
   "source": [
    "# Save as tsv\n",
    "with gzip.open('data/gene-degrees.tsv.gz', 'wt') as write_file:\n",
    "    gene_df.to_csv(write_file, sep='\\t', index=False)"
   ]
  }
 ],
 "metadata": {
  "kernelspec": {
   "display_name": "Python 3",
   "language": "python",
   "name": "python3"
  },
  "language_info": {
   "codemirror_mode": {
    "name": "ipython",
    "version": 3
   },
   "file_extension": ".py",
   "mimetype": "text/x-python",
   "name": "python",
   "nbconvert_exporter": "python",
   "pygments_lexer": "ipython3",
   "version": "3.4.3"
  }
 },
 "nbformat": 4,
 "nbformat_minor": 0
}
